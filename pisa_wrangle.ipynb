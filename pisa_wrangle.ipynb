{
 "cells": [
  {
   "cell_type": "markdown",
   "metadata": {},
   "source": [
    "# GATHER"
   ]
  },
  {
   "cell_type": "code",
   "execution_count": 1,
   "metadata": {},
   "outputs": [],
   "source": [
    "import numpy as np\n",
    "import pandas as pd\n",
    "import zipfile\n",
    "import dill"
   ]
  },
  {
   "cell_type": "code",
   "execution_count": null,
   "metadata": {},
   "outputs": [],
   "source": [
    "#uncomment to save or load environment\n",
    "\n",
    "dill.dump_session('notebook_session.db') #save\n",
    "#dill.load_session('notebook_session.db') #load"
   ]
  },
  {
   "cell_type": "code",
   "execution_count": 2,
   "metadata": {},
   "outputs": [],
   "source": [
    "zf = zipfile.ZipFile('./data/pisa2012.zip')\n",
    "pisa2012 = pd.read_csv(zf.open('pisa2012.csv'), encoding = 'latin-1', sep = ',',\n",
    "                       error_bad_lines = False, index_col = False, dtype = 'unicode', skipinitialspace=True)"
   ]
  },
  {
   "cell_type": "markdown",
   "metadata": {},
   "source": [
    "> For our data wrangling process, I aim to focus on how both environmental factors and demographic factors affect a student's academic performance, future optimism and self-esteem. \n",
    "\n",
    "- Environmental factors will consist of ***teacher helpfulness***, ***sense of belonging***, and ***acculturation.***\n",
    "\n",
    "- Demographic factors will consist of ***gender*** and ***parent background***.\n",
    "\n",
    "- Academic performance will consist of math, reading, and science ***scores*** and ***work ethic***.\n",
    "- ***Future optimism*** and ***self-esteem*** will both be standalone.\n",
    "\n",
    "I'm essentially exploring the idea of, \"If a student isn't getting any help and feels like an outsider, then that'll lower their commitment for school and hurt their self-esteem, in turn lowering their academic performance.\" On the flip side, a student who ***is*** getting help and feels comfortable in the school environment would have greater optimism in committing to school, thus raising their academic performance.\n",
    "\n",
    "At the same time, I want to see how parent background, country, and gender can drive these variables against/in favor of the student.\n",
    "\n",
    "After looking through the dataset, I have isolated these variables.\n",
    "\n",
    "### Student Information\n",
    "- **Gender + Parent Background**\n",
    "    - **ST04Q01** - Gender\n",
    "    - **PV1MATH** -\tPlausible value 1 in mathematics\n",
    "    - **PV1READ** - Plausible value 1 in reading\n",
    "    - **PV1SCIE** -\tPlausible value 1 in science\n",
    "    - **OCOD1** ISCO-08 Occupation code - Mother\n",
    "    - **OCOD2** ISCO-08 Occupation code - Father\n",
    "    - **ST22Q01** -\tAcculturation - Mother Immigrant (Filter)\n",
    "    \n",
    "- **STIDSTD** - student ID\n",
    "- **CNT** - 3-character country code\n",
    "\n",
    "\n",
    "### Teacher Helpfulness/Involvement\n",
    "    \n",
    "- **Teacher Support**\n",
    "    - **ST83Q01** -\tTeacher Support - Lets Us Know We Have to Work Hard\n",
    "    - **ST83Q02** -\tTeacher Support - Provides Extra Help When Needed\n",
    "    - **ST83Q03** -\tTeacher Support - Helps Students with Learning\n",
    "    - **ST83Q04** -\tTeacher Support - Gives Opportunity to Express Opinions\n",
    "    \n",
    "- **Student-Teacher Relation**\n",
    "    - **ST86Q01** -\tStudent-Teacher Relation - Get Along with Teachers\n",
    "    - **ST86Q02** -\tStudent-Teacher Relation - Teachers Are Interested\n",
    "    - **ST86Q03** -\tStudent-Teacher Relation - Teachers Listen to Students\n",
    "    - **ST86Q04** -\tStudent-Teacher Relation - Teachers Help Students\n",
    "    - **ST86Q05** -\tStudent-Teacher Relation - Teachers Treat Students Fair\n",
    "    \n",
    "- **Teacher-Directed Instruction**\n",
    "    - **ST79Q01** -\tTeacher-Directed Instruction - Sets Clear Goals\n",
    "    - **ST79Q02** -\tTeacher-Directed Instruction - Encourages Thinking and Reasoning\n",
    "    - **ST79Q06** -\tTeacher-Directed Instruction - Checks Understanding\n",
    "    - **ST79Q08** -\tTeacher-Directed Instruction - Summarizes Previous Lessons\n",
    "    - **ST79Q15** -\tTeacher-Directed Instruction - Informs about Learning Goals\n",
    "    \n",
    "### Sense of Belonging\n",
    "\n",
    "- **Sense of Belonging**\n",
    "    - **ST87Q01** - Sense of Belonging - Feel Like Outsider\n",
    "    - **ST87Q02** -\tSense of Belonging - Make Friends Easily\n",
    "    - **ST87Q03** -\tSense of Belonging - Belong at School\n",
    "    - **ST87Q04** -\tSense of Belonging - Feel Awkward at School\n",
    "    - **ST87Q05** -\tSense of Belonging - Liked by Other Students\n",
    "    - **ST87Q06** -\tSense of Belonging - Feel Lonely at School\n",
    "    - **ST87Q07** -\tSense of Belonging - Feel Happy at School\n",
    "    - **ST87Q08** -\tSense of Belonging - Things Are Ideal at School\n",
    "    - **ST87Q09** -\tSense of Belonging - Satisfied at School\n",
    "    - **BELONG**  - Sense of Belonging to School\n",
    "    \n",
    "### Acculturation\n",
    "\n",
    "> The reason I picked only the host culture acculturations is because I want to see how well a student is ***fitting in*** to the culture of the school they're currently attending.\n",
    "\n",
    "- **Acculturation**\n",
    "    - **ST23Q01** -\tAcculturation - Enjoy Host Culture Friends\n",
    "    - **ST23Q03** -\tAcculturation - Enjoy Host Culture Celebrations\n",
    "    - **ST23Q05** -\tAcculturation - Spend Time with Host Culture Friends\n",
    "    - **ST23Q07** -\tAcculturation - Participate in Host Culture Celebrations\n",
    "    - **ST24Q01** -\tAcculturation - Perceived Host-Heritage Cultural Differences - Values\n",
    "    - **ST24Q02** -\tAcculturation - Perceived Host-Heritage Cultural Differences - Mother Treatment\n",
    "    - **ST24Q03** -\tAcculturation - Perceived Host-Heritage Cultural Differences - Teacher Treatment\n",
    "\n",
    "\n",
    "> I included math work ethic into overall work ethic. \n",
    "### Work Ethic\n",
    "\n",
    "- **Math Work Ethic**\n",
    "    - **ST46Q01** -\tMath Work Ethic - Homework Completed in Time\n",
    "    - **ST46Q02** -\tMath Work Ethic - Work Hard on Homework\n",
    "    - **ST46Q03** -\tMath Work Ethic - Prepared for Exams\n",
    "    - **ST46Q04** -\tMath Work Ethic - Study Hard for Quizzes\n",
    "    - **ST46Q05** -\tMath Work Ethic - Study Until I Understand Everything\n",
    "    - **ST46Q06** -\tMath Work Ethic - Pay Attention in Classes\n",
    "    - **ST46Q07** -\tMath Work Ethic - Listen in Classes\n",
    "    - **ST46Q08** -\tMath Work Ethic - Avoid Distractions When Studying\n",
    "    - **ST46Q09** -\tMath Work Ethic - Keep Work Organized\n",
    "\n",
    "- **Perseverance**\n",
    "    - **ST93Q01** -\tPerseverance - Give up easily\n",
    "    - **ST93Q03** -\tPerseverance - Put off difficult problems\n",
    "    - **ST93Q04** -\tPerseverance - Remain interested\n",
    "    - **ST93Q06** -\tPerseverance - Continue to perfection\n",
    "    - **ST93Q07** -\tPerseverance - Exceed expectations\n",
    "    \n",
    "- **Truancy**\n",
    "    - **ST08Q01** - Truancy - Late for School\n",
    "    - **ST09Q01** - Truancy - Skip whole school day\n",
    "    \n",
    "- **Out-of-School Study Time**\n",
    "    - **ST57Q01** -\tOut-of-School Study Time - Homework\n",
    "    - **ST57Q02** -\tOut-of-School Study Time - Guided Homework\n",
    "    - **ST57Q03** -\tOut-of-School Study Time - Personal Tutor\n",
    "    - **ST57Q04** -\tOut-of-School Study Time - Commercial Company\n",
    "    - **ST57Q05** -\tOut-of-School Study Time - With Parent\n",
    "    - **ST57Q06** -\tOut-of-School Study Time - Computer\n",
    "\n",
    "\n",
    "### Future Optimism\n",
    "\n",
    "- **Attitudes toward School**\n",
    "    - **ST88Q01** -\tAttitude towards School - Does Little to Prepare Me for Life\n",
    "    - **ST88Q02** -\tAttitude towards School - Waste of Time\n",
    "    - **ST88Q03** -\tAttitude towards School - Gave Me Confidence\n",
    "    - **ST88Q04** -\tAttitude towards School- Useful for Job\n",
    "    - **ST89Q02** -\tAttitude toward School - Helps to Get a Job\n",
    "    - **ST89Q03** -\tAttitude toward School - Prepare for College\n",
    "    - **ST89Q04** -\tAttitude toward School - Enjoy Good Grades\n",
    "    - **ST89Q05** -\tAttitude toward School - Trying Hard is Important\n",
    "    \n",
    "- **Instrumental Motivation**\n",
    "    - **ST29Q07** -\tInstrumental Motivation - Important for Future Study\n",
    "    - **ST29Q08** -\tInstrumental Motivation - Helps to Get a Job\n",
    "\n",
    "### Self-Esteem\n",
    "- **Perceived Control**\n",
    "    - **ST91Q01** -\tPerceived Control - Can Succeed with Enough Effort\n",
    "    - **ST91Q02** -\tPerceived Control - My Choice Whether I Will Be Good\n",
    "    - **ST91Q03** -\tPerceived Control - Problems Prevent from Putting Effort into School\n",
    "    - **ST91Q04** -\tPerceived Control - Different Teachers Would Make Me Try Harder\n",
    "    - **ST91Q05** -\tPerceived Control - Could Perform Well if I Wanted\n",
    "    - **ST91Q06** -\tPerceived Control - Perform Poor Regardless\n",
    "    \n",
    "- **Math Self-Concept** \n",
    "    - **ST42Q02** -\tMath Self-Concept - Not Good at Maths\n",
    "    - **ST42Q04** -\tMath Self-Concept- Get Good Grades\n",
    "    - **ST42Q06** -\tMath Self-Concept - Learn Quickly\n",
    "    - **ST42Q07** -\tMath Self-Concept - One of Best Subjects\n",
    "    - **ST42Q09** -\tMath Self-Concept - Understand Difficult Work\n",
    "    \n",
    "After isolating the above variables, I intend to have these 14 columns in the final clean CSV:\n",
    "\n",
    "- student ID\n",
    "- country\n",
    "- gender\n",
    "- overall math score\n",
    "- overall reading score\n",
    "- overall science score\n",
    "- teacher helpfulness/involvement\n",
    "- sense of belonging\n",
    "- acculturation\n",
    "- work ethic\n",
    "- future optimism\n",
    "- self-esteem\n",
    "- mother work background\n",
    "- father work background\n",
    "\n",
    "All variables from `teacher helpfulness` to `self-esteem` will be quantified with an average score, and normalized across all columns."
   ]
  },
  {
   "cell_type": "code",
   "execution_count": 9,
   "metadata": {},
   "outputs": [],
   "source": [
    "#create categories for each variable\n",
    "student_info = ['STIDSTD', 'CNT', 'ST04Q01', 'PV1MATH', 'PV1READ', 'PV1SCIE', 'OCOD1', 'OCOD2', 'ST22Q01']"
   ]
  },
  {
   "cell_type": "code",
   "execution_count": 10,
   "metadata": {},
   "outputs": [
    {
     "data": {
      "text/plain": [
       "14"
      ]
     },
     "execution_count": 10,
     "metadata": {},
     "output_type": "execute_result"
    }
   ],
   "source": [
    "#teacher helpfulness/involvement\n",
    "teacher_support = ['ST83Q01', 'ST83Q02', 'ST83Q03', 'ST83Q04'] \n",
    "teacher_relation = ['ST86Q01', 'ST86Q02', 'ST86Q03', 'ST86Q04', 'ST86Q05']\n",
    "teacher_direct = ['ST79Q01', 'ST79Q02', 'ST79Q06', 'ST79Q08', 'ST79Q15']\n",
    "\n",
    "teacher_helpfulness = np.concatenate([teacher_support, teacher_relation, teacher_direct]).ravel()\n",
    "\n",
    "#num of columns\n",
    "len(pisa2012[teacher_helpfulness].columns)"
   ]
  },
  {
   "cell_type": "code",
   "execution_count": 11,
   "metadata": {},
   "outputs": [
    {
     "data": {
      "text/plain": [
       "9"
      ]
     },
     "execution_count": 11,
     "metadata": {},
     "output_type": "execute_result"
    }
   ],
   "source": [
    "#sense of belonging\n",
    "belonging = ['ST87Q01', 'ST87Q02', 'ST87Q03', 'ST87Q04', 'ST87Q05', 'ST87Q06', 'ST87Q07', 'ST87Q08', 'ST87Q09'] \n",
    "\n",
    "len(pisa2012[belonging].columns)"
   ]
  },
  {
   "cell_type": "code",
   "execution_count": 12,
   "metadata": {},
   "outputs": [
    {
     "data": {
      "text/plain": [
       "7"
      ]
     },
     "execution_count": 12,
     "metadata": {},
     "output_type": "execute_result"
    }
   ],
   "source": [
    "#acculturation\n",
    "acculturation = ['ST23Q01', 'ST23Q03', 'ST23Q05', 'ST23Q07', 'ST24Q01', 'ST24Q02', 'ST24Q03']\n",
    "\n",
    "len(pisa2012[acculturation].columns)"
   ]
  },
  {
   "cell_type": "code",
   "execution_count": 13,
   "metadata": {},
   "outputs": [
    {
     "data": {
      "text/plain": [
       "16"
      ]
     },
     "execution_count": 13,
     "metadata": {},
     "output_type": "execute_result"
    }
   ],
   "source": [
    "#work ethic\n",
    "math_ethic = ['ST46Q01', 'ST46Q02', 'ST46Q03', 'ST46Q04', 'ST46Q05', 'ST46Q06', 'ST46Q07', 'ST46Q08', 'ST46Q09']\n",
    "perseverance = ['ST93Q01', 'ST93Q03', 'ST93Q04', 'ST93Q06', 'ST93Q07']\n",
    "truancy = ['ST08Q01', 'ST09Q01']\n",
    "\n",
    "work_ethic = np.concatenate([math_ethic, perseverance, truancy]).ravel()\n",
    "pisa2012[work_ethic].columns.shape[0]"
   ]
  },
  {
   "cell_type": "code",
   "execution_count": 14,
   "metadata": {},
   "outputs": [
    {
     "data": {
      "text/plain": [
       "10"
      ]
     },
     "execution_count": 14,
     "metadata": {},
     "output_type": "execute_result"
    }
   ],
   "source": [
    "#future optimism\n",
    "attitude_school =['ST88Q01', 'ST88Q02', 'ST88Q03', 'ST88Q04', 'ST89Q02', 'ST89Q03', 'ST89Q04', 'ST89Q05']\n",
    "motivation = ['ST29Q07', 'ST29Q08']\n",
    "\n",
    "future_optimism = np.concatenate([attitude_school, motivation]).ravel()\n",
    "pisa2012[future_optimism].columns.shape[0]"
   ]
  },
  {
   "cell_type": "code",
   "execution_count": 15,
   "metadata": {},
   "outputs": [
    {
     "data": {
      "text/plain": [
       "11"
      ]
     },
     "execution_count": 15,
     "metadata": {},
     "output_type": "execute_result"
    }
   ],
   "source": [
    "#self esteem\n",
    "perceived_control = ['ST91Q01', 'ST91Q02', 'ST91Q03', 'ST91Q04', 'ST91Q05', 'ST91Q06']\n",
    "math_self_concept = ['ST42Q02', 'ST42Q04', 'ST42Q06', 'ST42Q07', 'ST42Q09']\n",
    "\n",
    "self_esteem = np.concatenate([perceived_control, math_self_concept]).ravel()\n",
    "pisa2012[self_esteem].columns.shape[0]"
   ]
  },
  {
   "cell_type": "markdown",
   "metadata": {},
   "source": [
    "### Observations\n",
    "1. `teacher_helpfulness` has a total of 14 columns.\n",
    "2. `belonging` has a total of 9 columns.\n",
    "3. `acculturation` has a total of 7 columns.\n",
    "4. `work ethic` has a total of 17 columns.\n",
    "5. `future_optimism` has a total of 10 columns.\n",
    "6. `self_esteem` has a total of 11 columns.\n",
    "7. `student info` has a total of 9 columns."
   ]
  },
  {
   "cell_type": "markdown",
   "metadata": {},
   "source": [
    "# ASSESS"
   ]
  },
  {
   "cell_type": "markdown",
   "metadata": {},
   "source": [
    "### Overall"
   ]
  },
  {
   "cell_type": "code",
   "execution_count": 11,
   "metadata": {},
   "outputs": [
    {
     "data": {
      "text/plain": [
       "(485490, 636)"
      ]
     },
     "execution_count": 11,
     "metadata": {},
     "output_type": "execute_result"
    }
   ],
   "source": [
    "pisa2012.shape"
   ]
  },
  {
   "cell_type": "markdown",
   "metadata": {},
   "source": [
    "> There are 485490 entries and 636 columns. We have some **serious** cleaning to do."
   ]
  },
  {
   "cell_type": "code",
   "execution_count": 12,
   "metadata": {},
   "outputs": [
    {
     "data": {
      "text/plain": [
       "0"
      ]
     },
     "execution_count": 12,
     "metadata": {},
     "output_type": "execute_result"
    }
   ],
   "source": [
    "#number of rows with duplicate data\n",
    "num_duplicate = pisa2012.duplicated().sum()\n",
    "num_duplicate"
   ]
  },
  {
   "cell_type": "code",
   "execution_count": 13,
   "metadata": {},
   "outputs": [
    {
     "data": {
      "text/plain": [
       "472209"
      ]
     },
     "execution_count": 13,
     "metadata": {},
     "output_type": "execute_result"
    }
   ],
   "source": [
    "#count how many rows have missing data\n",
    "num_missing = pisa2012.isna().sum().max()\n",
    "num_missing"
   ]
  },
  {
   "cell_type": "code",
   "execution_count": 23,
   "metadata": {},
   "outputs": [
    {
     "name": "stdout",
     "output_type": "stream",
     "text": [
      "This PISA dataset has 13281 rows with no missing data.\n"
     ]
    }
   ],
   "source": [
    "print('This PISA dataset has {} rows with no missing data.'.format(pisa2012.shape[0] - num_missing))"
   ]
  },
  {
   "cell_type": "markdown",
   "metadata": {},
   "source": [
    "> Comb through each variable category one at a time.\n",
    "\n",
    "### Student Info"
   ]
  },
  {
   "cell_type": "code",
   "execution_count": 14,
   "metadata": {},
   "outputs": [],
   "source": [
    "df_student_info = pisa2012[student_info]"
   ]
  },
  {
   "cell_type": "code",
   "execution_count": 15,
   "metadata": {},
   "outputs": [
    {
     "data": {
      "text/html": [
       "<div>\n",
       "<style scoped>\n",
       "    .dataframe tbody tr th:only-of-type {\n",
       "        vertical-align: middle;\n",
       "    }\n",
       "\n",
       "    .dataframe tbody tr th {\n",
       "        vertical-align: top;\n",
       "    }\n",
       "\n",
       "    .dataframe thead th {\n",
       "        text-align: right;\n",
       "    }\n",
       "</style>\n",
       "<table border=\"1\" class=\"dataframe\">\n",
       "  <thead>\n",
       "    <tr style=\"text-align: right;\">\n",
       "      <th></th>\n",
       "      <th>STIDSTD</th>\n",
       "      <th>CNT</th>\n",
       "      <th>ST04Q01</th>\n",
       "      <th>PV1MATH</th>\n",
       "      <th>PV1READ</th>\n",
       "      <th>PV1SCIE</th>\n",
       "      <th>OCOD1</th>\n",
       "      <th>OCOD2</th>\n",
       "      <th>ST22Q01</th>\n",
       "    </tr>\n",
       "  </thead>\n",
       "  <tbody>\n",
       "    <tr>\n",
       "      <th>0</th>\n",
       "      <td>00001</td>\n",
       "      <td>Albania</td>\n",
       "      <td>Female</td>\n",
       "      <td>406.8469</td>\n",
       "      <td>249.5762</td>\n",
       "      <td>341.7009</td>\n",
       "      <td>Building architects</td>\n",
       "      <td>Primary school teachers</td>\n",
       "      <td>NaN</td>\n",
       "    </tr>\n",
       "    <tr>\n",
       "      <th>1</th>\n",
       "      <td>00002</td>\n",
       "      <td>Albania</td>\n",
       "      <td>Female</td>\n",
       "      <td>486.1427</td>\n",
       "      <td>406.2936</td>\n",
       "      <td>548.9929</td>\n",
       "      <td>Tailors, dressmakers, furriers and hatters</td>\n",
       "      <td>Building construction labourers</td>\n",
       "      <td>NaN</td>\n",
       "    </tr>\n",
       "    <tr>\n",
       "      <th>2</th>\n",
       "      <td>00003</td>\n",
       "      <td>Albania</td>\n",
       "      <td>Female</td>\n",
       "      <td>533.2684</td>\n",
       "      <td>401.21</td>\n",
       "      <td>499.6643</td>\n",
       "      <td>Housewife</td>\n",
       "      <td>Bricklayers and related workers</td>\n",
       "      <td>NaN</td>\n",
       "    </tr>\n",
       "    <tr>\n",
       "      <th>3</th>\n",
       "      <td>00004</td>\n",
       "      <td>Albania</td>\n",
       "      <td>Female</td>\n",
       "      <td>412.2215</td>\n",
       "      <td>547.363</td>\n",
       "      <td>438.6796</td>\n",
       "      <td>Housewife</td>\n",
       "      <td>Cleaners and helpers in offices, hotels and ot...</td>\n",
       "      <td>NaN</td>\n",
       "    </tr>\n",
       "    <tr>\n",
       "      <th>4</th>\n",
       "      <td>00005</td>\n",
       "      <td>Albania</td>\n",
       "      <td>Female</td>\n",
       "      <td>381.9209</td>\n",
       "      <td>311.7707</td>\n",
       "      <td>361.5628</td>\n",
       "      <td>Housewife</td>\n",
       "      <td>Economists</td>\n",
       "      <td>NaN</td>\n",
       "    </tr>\n",
       "  </tbody>\n",
       "</table>\n",
       "</div>"
      ],
      "text/plain": [
       "  STIDSTD      CNT ST04Q01   PV1MATH   PV1READ   PV1SCIE  \\\n",
       "0   00001  Albania  Female  406.8469  249.5762  341.7009   \n",
       "1   00002  Albania  Female  486.1427  406.2936  548.9929   \n",
       "2   00003  Albania  Female  533.2684    401.21  499.6643   \n",
       "3   00004  Albania  Female  412.2215   547.363  438.6796   \n",
       "4   00005  Albania  Female  381.9209  311.7707  361.5628   \n",
       "\n",
       "                                        OCOD1  \\\n",
       "0                         Building architects   \n",
       "1  Tailors, dressmakers, furriers and hatters   \n",
       "2                                   Housewife   \n",
       "3                                   Housewife   \n",
       "4                                   Housewife   \n",
       "\n",
       "                                               OCOD2 ST22Q01  \n",
       "0                            Primary school teachers     NaN  \n",
       "1                    Building construction labourers     NaN  \n",
       "2                    Bricklayers and related workers     NaN  \n",
       "3  Cleaners and helpers in offices, hotels and ot...     NaN  \n",
       "4                                         Economists     NaN  "
      ]
     },
     "execution_count": 15,
     "metadata": {},
     "output_type": "execute_result"
    }
   ],
   "source": [
    "df_student_info.head()"
   ]
  },
  {
   "cell_type": "code",
   "execution_count": 26,
   "metadata": {},
   "outputs": [
    {
     "data": {
      "text/html": [
       "<div>\n",
       "<style scoped>\n",
       "    .dataframe tbody tr th:only-of-type {\n",
       "        vertical-align: middle;\n",
       "    }\n",
       "\n",
       "    .dataframe tbody tr th {\n",
       "        vertical-align: top;\n",
       "    }\n",
       "\n",
       "    .dataframe thead th {\n",
       "        text-align: right;\n",
       "    }\n",
       "</style>\n",
       "<table border=\"1\" class=\"dataframe\">\n",
       "  <thead>\n",
       "    <tr style=\"text-align: right;\">\n",
       "      <th></th>\n",
       "      <th>STIDSTD</th>\n",
       "      <th>CNT</th>\n",
       "      <th>ST04Q01</th>\n",
       "      <th>PV1MATH</th>\n",
       "      <th>PV1READ</th>\n",
       "      <th>PV1SCIE</th>\n",
       "      <th>OCOD1</th>\n",
       "      <th>OCOD2</th>\n",
       "      <th>ST22Q01</th>\n",
       "    </tr>\n",
       "  </thead>\n",
       "  <tbody>\n",
       "    <tr>\n",
       "      <th>count</th>\n",
       "      <td>485490</td>\n",
       "      <td>485490</td>\n",
       "      <td>485490</td>\n",
       "      <td>485490</td>\n",
       "      <td>485490</td>\n",
       "      <td>485490</td>\n",
       "      <td>483887</td>\n",
       "      <td>482936</td>\n",
       "      <td>40721</td>\n",
       "    </tr>\n",
       "    <tr>\n",
       "      <th>unique</th>\n",
       "      <td>33806</td>\n",
       "      <td>68</td>\n",
       "      <td>2</td>\n",
       "      <td>7063</td>\n",
       "      <td>11556</td>\n",
       "      <td>6153</td>\n",
       "      <td>588</td>\n",
       "      <td>588</td>\n",
       "      <td>2</td>\n",
       "    </tr>\n",
       "    <tr>\n",
       "      <th>top</th>\n",
       "      <td>00200</td>\n",
       "      <td>Mexico</td>\n",
       "      <td>Female</td>\n",
       "      <td>444.158</td>\n",
       "      <td>510.1099</td>\n",
       "      <td>472.5289</td>\n",
       "      <td>Housewife</td>\n",
       "      <td>Missing</td>\n",
       "      <td>Yes</td>\n",
       "    </tr>\n",
       "    <tr>\n",
       "      <th>freq</th>\n",
       "      <td>68</td>\n",
       "      <td>33806</td>\n",
       "      <td>245064</td>\n",
       "      <td>359</td>\n",
       "      <td>355</td>\n",
       "      <td>753</td>\n",
       "      <td>74358</td>\n",
       "      <td>36559</td>\n",
       "      <td>31692</td>\n",
       "    </tr>\n",
       "  </tbody>\n",
       "</table>\n",
       "</div>"
      ],
      "text/plain": [
       "       STIDSTD     CNT ST04Q01  PV1MATH   PV1READ   PV1SCIE      OCOD1  \\\n",
       "count   485490  485490  485490   485490    485490    485490     483887   \n",
       "unique   33806      68       2     7063     11556      6153        588   \n",
       "top      00200  Mexico  Female  444.158  510.1099  472.5289  Housewife   \n",
       "freq        68   33806  245064      359       355       753      74358   \n",
       "\n",
       "          OCOD2 ST22Q01  \n",
       "count    482936   40721  \n",
       "unique      588       2  \n",
       "top     Missing     Yes  \n",
       "freq      36559   31692  "
      ]
     },
     "execution_count": 26,
     "metadata": {},
     "output_type": "execute_result"
    }
   ],
   "source": [
    "df_student_info.describe()"
   ]
  },
  {
   "cell_type": "code",
   "execution_count": 27,
   "metadata": {},
   "outputs": [
    {
     "data": {
      "text/plain": [
       "Missing                                                         36559\n",
       "Vague(a good job, a quiet job, a well paid job, an office jo    14716\n",
       "Heavy truck and lorry drivers                                   11816\n",
       "Name: OCOD2, dtype: int64"
      ]
     },
     "execution_count": 27,
     "metadata": {},
     "output_type": "execute_result"
    }
   ],
   "source": [
    "#first 3 results of most common father occupations\n",
    "pisa2012[student_info].OCOD2.value_counts()[:3]"
   ]
  },
  {
   "cell_type": "markdown",
   "metadata": {},
   "source": [
    "- It appears that Mexico is the most common country, with a frequency of 33806 out of 485490 total students.\n",
    "- It appears that there are more female than male students.\n",
    "- It appears that the most common occupation for a mother is a housewife.\n",
    "- Besides missing and vague information, it appears that the most common occupation for a father is a heavy truck/lorry driver.\n",
    "- It appears that most student's mothers is an immigrant.\n",
    "\n",
    "\n",
    "- It appears that the most common math score is 444.158, with a frequency of 359 out of 485490 total scores. \n",
    "- It appears that the most common reading score is 510.1099, with a frequency of 355 out of 485490 total scores.\n",
    "- It appears that the most common science score is 472.5289, with a frequency of 588 out of 485490 total scores."
   ]
  },
  {
   "cell_type": "code",
   "execution_count": 28,
   "metadata": {},
   "outputs": [
    {
     "name": "stdout",
     "output_type": "stream",
     "text": [
      "<class 'pandas.core.frame.DataFrame'>\n",
      "RangeIndex: 485490 entries, 0 to 485489\n",
      "Data columns (total 9 columns):\n",
      "STIDSTD    485490 non-null object\n",
      "CNT        485490 non-null object\n",
      "ST04Q01    485490 non-null object\n",
      "PV1MATH    485490 non-null object\n",
      "PV1READ    485490 non-null object\n",
      "PV1SCIE    485490 non-null object\n",
      "OCOD1      483887 non-null object\n",
      "OCOD2      482936 non-null object\n",
      "ST22Q01    40721 non-null object\n",
      "dtypes: object(9)\n",
      "memory usage: 33.3+ MB\n"
     ]
    }
   ],
   "source": [
    "df_student_info.info()"
   ]
  },
  {
   "cell_type": "markdown",
   "metadata": {},
   "source": [
    "**Note:** math, reading, and science scores are recorded as strings."
   ]
  },
  {
   "cell_type": "markdown",
   "metadata": {},
   "source": [
    "**Student ID**"
   ]
  },
  {
   "cell_type": "code",
   "execution_count": 29,
   "metadata": {},
   "outputs": [
    {
     "data": {
      "text/plain": [
       "451684"
      ]
     },
     "execution_count": 29,
     "metadata": {},
     "output_type": "execute_result"
    }
   ],
   "source": [
    "#check for number of unique student IDs\n",
    "df_student_info.STIDSTD.duplicated().sum()"
   ]
  },
  {
   "cell_type": "markdown",
   "metadata": {},
   "source": [
    "There are 451684 duplicated student IDs, but that does not mean every student is the same. If we take a look below at some of the repeated student IDs, we can see that they are mostly based in different countries, all with much different records for the other pieces of student information."
   ]
  },
  {
   "cell_type": "code",
   "execution_count": 30,
   "metadata": {},
   "outputs": [
    {
     "data": {
      "text/html": [
       "<div>\n",
       "<style scoped>\n",
       "    .dataframe tbody tr th:only-of-type {\n",
       "        vertical-align: middle;\n",
       "    }\n",
       "\n",
       "    .dataframe tbody tr th {\n",
       "        vertical-align: top;\n",
       "    }\n",
       "\n",
       "    .dataframe thead th {\n",
       "        text-align: right;\n",
       "    }\n",
       "</style>\n",
       "<table border=\"1\" class=\"dataframe\">\n",
       "  <thead>\n",
       "    <tr style=\"text-align: right;\">\n",
       "      <th></th>\n",
       "      <th>STIDSTD</th>\n",
       "      <th>CNT</th>\n",
       "      <th>ST04Q01</th>\n",
       "      <th>PV1MATH</th>\n",
       "      <th>PV1READ</th>\n",
       "      <th>PV1SCIE</th>\n",
       "      <th>OCOD1</th>\n",
       "      <th>OCOD2</th>\n",
       "      <th>ST22Q01</th>\n",
       "    </tr>\n",
       "  </thead>\n",
       "  <tbody>\n",
       "    <tr>\n",
       "      <th>463259</th>\n",
       "      <td>02277</td>\n",
       "      <td>Tunisia</td>\n",
       "      <td>Male</td>\n",
       "      <td>282.84</td>\n",
       "      <td>236.4753</td>\n",
       "      <td>265.5166</td>\n",
       "      <td>Housewife</td>\n",
       "      <td>Shop keepers</td>\n",
       "      <td>NaN</td>\n",
       "    </tr>\n",
       "    <tr>\n",
       "      <th>435459</th>\n",
       "      <td>02454</td>\n",
       "      <td>Slovak Republic</td>\n",
       "      <td>Male</td>\n",
       "      <td>755.8109</td>\n",
       "      <td>664.7942</td>\n",
       "      <td>682.0589</td>\n",
       "      <td>Applications programmers</td>\n",
       "      <td>Business services and administration managers ...</td>\n",
       "      <td>NaN</td>\n",
       "    </tr>\n",
       "    <tr>\n",
       "      <th>229980</th>\n",
       "      <td>02970</td>\n",
       "      <td>Ireland</td>\n",
       "      <td>Female</td>\n",
       "      <td>524.3885</td>\n",
       "      <td>619.7247</td>\n",
       "      <td>617.0645</td>\n",
       "      <td>Nursing professionals</td>\n",
       "      <td>Cleaners and helpers in offices, hotels and ot...</td>\n",
       "      <td>NaN</td>\n",
       "    </tr>\n",
       "    <tr>\n",
       "      <th>132254</th>\n",
       "      <td>04481</td>\n",
       "      <td>Czech Republic</td>\n",
       "      <td>Male</td>\n",
       "      <td>330.4331</td>\n",
       "      <td>308.6504</td>\n",
       "      <td>393.9202</td>\n",
       "      <td>Do not know</td>\n",
       "      <td>Vague(a good job, a quiet job, a well paid job...</td>\n",
       "      <td>NaN</td>\n",
       "    </tr>\n",
       "    <tr>\n",
       "      <th>86944</th>\n",
       "      <td>12475</td>\n",
       "      <td>Canada</td>\n",
       "      <td>Female</td>\n",
       "      <td>501.4878</td>\n",
       "      <td>552.2083</td>\n",
       "      <td>547.5009</td>\n",
       "      <td>University and higher education teachers</td>\n",
       "      <td>Musicians, singers and composers</td>\n",
       "      <td>NaN</td>\n",
       "    </tr>\n",
       "    <tr>\n",
       "      <th>325772</th>\n",
       "      <td>10070</td>\n",
       "      <td>Mexico</td>\n",
       "      <td>Male</td>\n",
       "      <td>501.4878</td>\n",
       "      <td>493.8195</td>\n",
       "      <td>496.7736</td>\n",
       "      <td>Domestic cleaners and helpers</td>\n",
       "      <td>Freight handlers</td>\n",
       "      <td>NaN</td>\n",
       "    </tr>\n",
       "    <tr>\n",
       "      <th>373223</th>\n",
       "      <td>00337</td>\n",
       "      <td>Peru</td>\n",
       "      <td>Male</td>\n",
       "      <td>323.4227</td>\n",
       "      <td>312.9007</td>\n",
       "      <td>334.5207</td>\n",
       "      <td>Waiters</td>\n",
       "      <td>Subsistence livestock farmers</td>\n",
       "      <td>NaN</td>\n",
       "    </tr>\n",
       "    <tr>\n",
       "      <th>112157</th>\n",
       "      <td>04915</td>\n",
       "      <td>Chile</td>\n",
       "      <td>Female</td>\n",
       "      <td>379.1946</td>\n",
       "      <td>423.3712</td>\n",
       "      <td>356.9004</td>\n",
       "      <td>Plastic products machine operators</td>\n",
       "      <td>Plumbers and pipe fitters</td>\n",
       "      <td>NaN</td>\n",
       "    </tr>\n",
       "    <tr>\n",
       "      <th>102290</th>\n",
       "      <td>06277</td>\n",
       "      <td>Switzerland</td>\n",
       "      <td>Male</td>\n",
       "      <td>466.7472</td>\n",
       "      <td>517.2363</td>\n",
       "      <td>456.6766</td>\n",
       "      <td>Laundry machine operators</td>\n",
       "      <td>Social beneficiary (unemployed, retired, sickn...</td>\n",
       "      <td>NaN</td>\n",
       "    </tr>\n",
       "    <tr>\n",
       "      <th>125580</th>\n",
       "      <td>02409</td>\n",
       "      <td>Costa Rica</td>\n",
       "      <td>Male</td>\n",
       "      <td>443.8464</td>\n",
       "      <td>438.4853</td>\n",
       "      <td>468.799</td>\n",
       "      <td>Housewife</td>\n",
       "      <td>Electrical engineering technicians</td>\n",
       "      <td>NaN</td>\n",
       "    </tr>\n",
       "  </tbody>\n",
       "</table>\n",
       "</div>"
      ],
      "text/plain": [
       "       STIDSTD              CNT ST04Q01   PV1MATH   PV1READ   PV1SCIE  \\\n",
       "463259   02277          Tunisia    Male    282.84  236.4753  265.5166   \n",
       "435459   02454  Slovak Republic    Male  755.8109  664.7942  682.0589   \n",
       "229980   02970          Ireland  Female  524.3885  619.7247  617.0645   \n",
       "132254   04481   Czech Republic    Male  330.4331  308.6504  393.9202   \n",
       "86944    12475           Canada  Female  501.4878  552.2083  547.5009   \n",
       "325772   10070           Mexico    Male  501.4878  493.8195  496.7736   \n",
       "373223   00337             Peru    Male  323.4227  312.9007  334.5207   \n",
       "112157   04915            Chile  Female  379.1946  423.3712  356.9004   \n",
       "102290   06277      Switzerland    Male  466.7472  517.2363  456.6766   \n",
       "125580   02409       Costa Rica    Male  443.8464  438.4853   468.799   \n",
       "\n",
       "                                           OCOD1  \\\n",
       "463259                                 Housewife   \n",
       "435459                  Applications programmers   \n",
       "229980                     Nursing professionals   \n",
       "132254                               Do not know   \n",
       "86944   University and higher education teachers   \n",
       "325772             Domestic cleaners and helpers   \n",
       "373223                                   Waiters   \n",
       "112157        Plastic products machine operators   \n",
       "102290                 Laundry machine operators   \n",
       "125580                                 Housewife   \n",
       "\n",
       "                                                    OCOD2 ST22Q01  \n",
       "463259                                       Shop keepers     NaN  \n",
       "435459  Business services and administration managers ...     NaN  \n",
       "229980  Cleaners and helpers in offices, hotels and ot...     NaN  \n",
       "132254  Vague(a good job, a quiet job, a well paid job...     NaN  \n",
       "86944                    Musicians, singers and composers     NaN  \n",
       "325772                                   Freight handlers     NaN  \n",
       "373223                      Subsistence livestock farmers     NaN  \n",
       "112157                          Plumbers and pipe fitters     NaN  \n",
       "102290  Social beneficiary (unemployed, retired, sickn...     NaN  \n",
       "125580                 Electrical engineering technicians     NaN  "
      ]
     },
     "execution_count": 30,
     "metadata": {},
     "output_type": "execute_result"
    }
   ],
   "source": [
    "df_student_info[df_student_info['STIDSTD'].duplicated()].sample(10)"
   ]
  },
  {
   "cell_type": "markdown",
   "metadata": {},
   "source": [
    "Let's pick 1 duplicated student ID and examine it."
   ]
  },
  {
   "cell_type": "code",
   "execution_count": 31,
   "metadata": {},
   "outputs": [
    {
     "data": {
      "text/html": [
       "<div>\n",
       "<style scoped>\n",
       "    .dataframe tbody tr th:only-of-type {\n",
       "        vertical-align: middle;\n",
       "    }\n",
       "\n",
       "    .dataframe tbody tr th {\n",
       "        vertical-align: top;\n",
       "    }\n",
       "\n",
       "    .dataframe thead th {\n",
       "        text-align: right;\n",
       "    }\n",
       "</style>\n",
       "<table border=\"1\" class=\"dataframe\">\n",
       "  <thead>\n",
       "    <tr style=\"text-align: right;\">\n",
       "      <th></th>\n",
       "      <th>STIDSTD</th>\n",
       "      <th>CNT</th>\n",
       "      <th>ST04Q01</th>\n",
       "      <th>PV1MATH</th>\n",
       "      <th>PV1READ</th>\n",
       "      <th>PV1SCIE</th>\n",
       "      <th>OCOD1</th>\n",
       "      <th>OCOD2</th>\n",
       "      <th>ST22Q01</th>\n",
       "    </tr>\n",
       "  </thead>\n",
       "  <tbody>\n",
       "    <tr>\n",
       "      <th>25575</th>\n",
       "      <td>03425</td>\n",
       "      <td>Australia</td>\n",
       "      <td>Female</td>\n",
       "      <td>419.3878</td>\n",
       "      <td>476.5106</td>\n",
       "      <td>438.2134</td>\n",
       "      <td>Sales workers</td>\n",
       "      <td>Construction managers</td>\n",
       "      <td>NaN</td>\n",
       "    </tr>\n",
       "    <tr>\n",
       "      <th>117523</th>\n",
       "      <td>03425</td>\n",
       "      <td>Colombia</td>\n",
       "      <td>Female</td>\n",
       "      <td>249.112</td>\n",
       "      <td>363.9568</td>\n",
       "      <td>300.0186</td>\n",
       "      <td>Beauticians and related workers</td>\n",
       "      <td>NaN</td>\n",
       "      <td>NaN</td>\n",
       "    </tr>\n",
       "    <tr>\n",
       "      <th>275087</th>\n",
       "      <td>03425</td>\n",
       "      <td>Jordan</td>\n",
       "      <td>Male</td>\n",
       "      <td>364.239</td>\n",
       "      <td>344.9785</td>\n",
       "      <td>363.0548</td>\n",
       "      <td>Housewife</td>\n",
       "      <td>Social beneficiary (unemployed, retired, sickn...</td>\n",
       "      <td>NaN</td>\n",
       "    </tr>\n",
       "    <tr>\n",
       "      <th>19667</th>\n",
       "      <td>03425</td>\n",
       "      <td>Argentina</td>\n",
       "      <td>Male</td>\n",
       "      <td>365.7969</td>\n",
       "      <td>340.9688</td>\n",
       "      <td>344.4051</td>\n",
       "      <td>Missing</td>\n",
       "      <td>Missing</td>\n",
       "      <td>NaN</td>\n",
       "    </tr>\n",
       "    <tr>\n",
       "      <th>464407</th>\n",
       "      <td>03425</td>\n",
       "      <td>Tunisia</td>\n",
       "      <td>Male</td>\n",
       "      <td>523.7654</td>\n",
       "      <td>476.8183</td>\n",
       "      <td>539.295</td>\n",
       "      <td>Housewife</td>\n",
       "      <td>House builders</td>\n",
       "      <td>NaN</td>\n",
       "    </tr>\n",
       "    <tr>\n",
       "      <th>187928</th>\n",
       "      <td>03425</td>\n",
       "      <td>France</td>\n",
       "      <td>Female</td>\n",
       "      <td>352.477</td>\n",
       "      <td>317.3308</td>\n",
       "      <td>341.9806</td>\n",
       "      <td>Cashiers and ticket clerks</td>\n",
       "      <td>Do not know</td>\n",
       "      <td>NaN</td>\n",
       "    </tr>\n",
       "    <tr>\n",
       "      <th>468814</th>\n",
       "      <td>03425</td>\n",
       "      <td>Turkey</td>\n",
       "      <td>Female</td>\n",
       "      <td>493.3089</td>\n",
       "      <td>524.4075</td>\n",
       "      <td>487.169</td>\n",
       "      <td>Housewife</td>\n",
       "      <td>Religious professionals</td>\n",
       "      <td>NaN</td>\n",
       "    </tr>\n",
       "    <tr>\n",
       "      <th>131198</th>\n",
       "      <td>03425</td>\n",
       "      <td>Czech Republic</td>\n",
       "      <td>Female</td>\n",
       "      <td>374.8325</td>\n",
       "      <td>417.9699</td>\n",
       "      <td>407.2548</td>\n",
       "      <td>Waiters</td>\n",
       "      <td>Car, taxi and van drivers</td>\n",
       "      <td>NaN</td>\n",
       "    </tr>\n",
       "    <tr>\n",
       "      <th>220003</th>\n",
       "      <td>03425</td>\n",
       "      <td>Hungary</td>\n",
       "      <td>Female</td>\n",
       "      <td>377.2472</td>\n",
       "      <td>426.7073</td>\n",
       "      <td>398.2096</td>\n",
       "      <td>Do not know</td>\n",
       "      <td>Toolmakers and related workers</td>\n",
       "      <td>NaN</td>\n",
       "    </tr>\n",
       "    <tr>\n",
       "      <th>403641</th>\n",
       "      <td>03425</td>\n",
       "      <td>China-Shanghai</td>\n",
       "      <td>Female</td>\n",
       "      <td>695.8327</td>\n",
       "      <td>610.193</td>\n",
       "      <td>581.3502</td>\n",
       "      <td>University and higher education teachers</td>\n",
       "      <td>Finance managers</td>\n",
       "      <td>NaN</td>\n",
       "    </tr>\n",
       "  </tbody>\n",
       "</table>\n",
       "</div>"
      ],
      "text/plain": [
       "       STIDSTD             CNT ST04Q01   PV1MATH   PV1READ   PV1SCIE  \\\n",
       "25575    03425       Australia  Female  419.3878  476.5106  438.2134   \n",
       "117523   03425        Colombia  Female   249.112  363.9568  300.0186   \n",
       "275087   03425          Jordan    Male   364.239  344.9785  363.0548   \n",
       "19667    03425       Argentina    Male  365.7969  340.9688  344.4051   \n",
       "464407   03425         Tunisia    Male  523.7654  476.8183   539.295   \n",
       "187928   03425          France  Female   352.477  317.3308  341.9806   \n",
       "468814   03425          Turkey  Female  493.3089  524.4075   487.169   \n",
       "131198   03425  Czech Republic  Female  374.8325  417.9699  407.2548   \n",
       "220003   03425         Hungary  Female  377.2472  426.7073  398.2096   \n",
       "403641   03425  China-Shanghai  Female  695.8327   610.193  581.3502   \n",
       "\n",
       "                                           OCOD1  \\\n",
       "25575                              Sales workers   \n",
       "117523           Beauticians and related workers   \n",
       "275087                                 Housewife   \n",
       "19667                                    Missing   \n",
       "464407                                 Housewife   \n",
       "187928                Cashiers and ticket clerks   \n",
       "468814                                 Housewife   \n",
       "131198                                   Waiters   \n",
       "220003                               Do not know   \n",
       "403641  University and higher education teachers   \n",
       "\n",
       "                                                    OCOD2 ST22Q01  \n",
       "25575                               Construction managers     NaN  \n",
       "117523                                                NaN     NaN  \n",
       "275087  Social beneficiary (unemployed, retired, sickn...     NaN  \n",
       "19667                                             Missing     NaN  \n",
       "464407                                     House builders     NaN  \n",
       "187928                                        Do not know     NaN  \n",
       "468814                            Religious professionals     NaN  \n",
       "131198                          Car, taxi and van drivers     NaN  \n",
       "220003                     Toolmakers and related workers     NaN  \n",
       "403641                                   Finance managers     NaN  "
      ]
     },
     "execution_count": 31,
     "metadata": {},
     "output_type": "execute_result"
    }
   ],
   "source": [
    "df_student_info[df_student_info['STIDSTD'] == '03425'].sample(10)"
   ]
  },
  {
   "cell_type": "markdown",
   "metadata": {},
   "source": [
    "This piece of evidence, coupled with the fact there are ***no*** duplicated entries for the entire PISA dataset, proves that repeated student IDs does not mean repeated identical students.\n",
    "\n",
    "These repeated student IDs are most likely caused by other factors such as ***different schools*** among different countries. Additionally, students with the same student ID all have different records--some are recorded as male and other females, based in different countries, and with varying math scores."
   ]
  },
  {
   "cell_type": "markdown",
   "metadata": {},
   "source": [
    "**Country**"
   ]
  },
  {
   "cell_type": "code",
   "execution_count": 32,
   "metadata": {},
   "outputs": [
    {
     "data": {
      "text/plain": [
       "0"
      ]
     },
     "execution_count": 32,
     "metadata": {},
     "output_type": "execute_result"
    }
   ],
   "source": [
    "#number of entries with missing countries\n",
    "sum(df_student_info.CNT.isnull())"
   ]
  },
  {
   "cell_type": "code",
   "execution_count": 33,
   "metadata": {},
   "outputs": [
    {
     "data": {
      "text/plain": [
       "68"
      ]
     },
     "execution_count": 33,
     "metadata": {},
     "output_type": "execute_result"
    }
   ],
   "source": [
    "df_student_info.CNT.nunique()"
   ]
  },
  {
   "cell_type": "markdown",
   "metadata": {},
   "source": [
    "> Our dataset includes data from 65 countries, but our DataFrame shows that there are 68 countries. What are the 3 additional rogue countries then?"
   ]
  },
  {
   "cell_type": "code",
   "execution_count": 34,
   "metadata": {},
   "outputs": [
    {
     "data": {
      "text/plain": [
       "Florida (USA)               1896\n",
       "Perm(Russian Federation)    1761\n",
       "Massachusetts (USA)         1723\n",
       "Connecticut (USA)           1697\n",
       "Liechtenstein                293\n",
       "Name: CNT, dtype: int64"
      ]
     },
     "execution_count": 34,
     "metadata": {},
     "output_type": "execute_result"
    }
   ],
   "source": [
    "#Massachusetts, Florida, and Connecticut recorded as separate countries.\n",
    "df_student_info.CNT.value_counts()[-5:]"
   ]
  },
  {
   "cell_type": "markdown",
   "metadata": {},
   "source": [
    "**Gender**"
   ]
  },
  {
   "cell_type": "code",
   "execution_count": 35,
   "metadata": {},
   "outputs": [
    {
     "data": {
      "text/plain": [
       "0"
      ]
     },
     "execution_count": 35,
     "metadata": {},
     "output_type": "execute_result"
    }
   ],
   "source": [
    "#number of entries with no gender entry\n",
    "sum(df_student_info.ST04Q01.isnull())"
   ]
  },
  {
   "cell_type": "code",
   "execution_count": 36,
   "metadata": {},
   "outputs": [
    {
     "data": {
      "text/plain": [
       "Female    245064\n",
       "Male      240426\n",
       "Name: ST04Q01, dtype: int64"
      ]
     },
     "execution_count": 36,
     "metadata": {},
     "output_type": "execute_result"
    }
   ],
   "source": [
    "#check male to female ratio\n",
    "gender_counts = df_student_info.ST04Q01.value_counts()\n",
    "gender_counts"
   ]
  },
  {
   "cell_type": "code",
   "execution_count": 37,
   "metadata": {},
   "outputs": [
    {
     "name": "stdout",
     "output_type": "stream",
     "text": [
      "Female students make up 50.48% of the student population.\n",
      "Male students make up 49.52% of the student population.\n"
     ]
    }
   ],
   "source": [
    "total_students = gender_counts[0] + gender_counts[1]\n",
    "print('Female students make up {:0.2f}% of the student population.'.format((gender_counts[0] / total_students) * 100))\n",
    "print('Male students make up {:0.2f}% of the student population.'.format((gender_counts[1] / total_students) * 100))"
   ]
  },
  {
   "cell_type": "markdown",
   "metadata": {},
   "source": [
    "> Male and female students are about **evenly split** with female students outnumbering male students by only .96%."
   ]
  },
  {
   "cell_type": "markdown",
   "metadata": {},
   "source": [
    "**Math, Reading, and Science Score**\n",
    "\n",
    "> All scores are recorded as strings. To appropriately assess the numbers quantitatively, I will temporarily change them to floats."
   ]
  },
  {
   "cell_type": "code",
   "execution_count": 38,
   "metadata": {},
   "outputs": [
    {
     "name": "stdout",
     "output_type": "stream",
     "text": [
      "0\n",
      "0\n",
      "0\n"
     ]
    }
   ],
   "source": [
    "#number of entries with no entry for math, science, and reading scores\n",
    "print(sum(df_student_info.PV1MATH.isnull()))\n",
    "print(sum(df_student_info.PV1READ.isnull()))\n",
    "print(sum(df_student_info.PV1SCIE.isnull()))"
   ]
  },
  {
   "cell_type": "code",
   "execution_count": 39,
   "metadata": {},
   "outputs": [
    {
     "data": {
      "text/html": [
       "<div>\n",
       "<style scoped>\n",
       "    .dataframe tbody tr th:only-of-type {\n",
       "        vertical-align: middle;\n",
       "    }\n",
       "\n",
       "    .dataframe tbody tr th {\n",
       "        vertical-align: top;\n",
       "    }\n",
       "\n",
       "    .dataframe thead th {\n",
       "        text-align: right;\n",
       "    }\n",
       "</style>\n",
       "<table border=\"1\" class=\"dataframe\">\n",
       "  <thead>\n",
       "    <tr style=\"text-align: right;\">\n",
       "      <th></th>\n",
       "      <th>PV1MATH</th>\n",
       "      <th>PV1READ</th>\n",
       "      <th>PV1SCIE</th>\n",
       "    </tr>\n",
       "  </thead>\n",
       "  <tbody>\n",
       "    <tr>\n",
       "      <th>count</th>\n",
       "      <td>485490.000000</td>\n",
       "      <td>485490.000000</td>\n",
       "      <td>485490.000000</td>\n",
       "    </tr>\n",
       "    <tr>\n",
       "      <th>mean</th>\n",
       "      <td>469.621653</td>\n",
       "      <td>472.004640</td>\n",
       "      <td>475.769824</td>\n",
       "    </tr>\n",
       "    <tr>\n",
       "      <th>std</th>\n",
       "      <td>103.265391</td>\n",
       "      <td>102.505523</td>\n",
       "      <td>101.464426</td>\n",
       "    </tr>\n",
       "    <tr>\n",
       "      <th>min</th>\n",
       "      <td>19.792800</td>\n",
       "      <td>0.083400</td>\n",
       "      <td>2.648300</td>\n",
       "    </tr>\n",
       "    <tr>\n",
       "      <th>25%</th>\n",
       "      <td>395.318600</td>\n",
       "      <td>403.600700</td>\n",
       "      <td>404.457300</td>\n",
       "    </tr>\n",
       "    <tr>\n",
       "      <th>50%</th>\n",
       "      <td>466.201900</td>\n",
       "      <td>475.455000</td>\n",
       "      <td>475.699400</td>\n",
       "    </tr>\n",
       "    <tr>\n",
       "      <th>75%</th>\n",
       "      <td>541.057800</td>\n",
       "      <td>544.502500</td>\n",
       "      <td>547.780700</td>\n",
       "    </tr>\n",
       "    <tr>\n",
       "      <th>max</th>\n",
       "      <td>962.229300</td>\n",
       "      <td>904.802600</td>\n",
       "      <td>903.338300</td>\n",
       "    </tr>\n",
       "  </tbody>\n",
       "</table>\n",
       "</div>"
      ],
      "text/plain": [
       "             PV1MATH        PV1READ        PV1SCIE\n",
       "count  485490.000000  485490.000000  485490.000000\n",
       "mean      469.621653     472.004640     475.769824\n",
       "std       103.265391     102.505523     101.464426\n",
       "min        19.792800       0.083400       2.648300\n",
       "25%       395.318600     403.600700     404.457300\n",
       "50%       466.201900     475.455000     475.699400\n",
       "75%       541.057800     544.502500     547.780700\n",
       "max       962.229300     904.802600     903.338300"
      ]
     },
     "execution_count": 39,
     "metadata": {},
     "output_type": "execute_result"
    }
   ],
   "source": [
    "#look at 5-Number Summary for all scores\n",
    "df_student_info[['PV1MATH', 'PV1READ', 'PV1SCIE']].astype(float).describe()"
   ]
  },
  {
   "cell_type": "markdown",
   "metadata": {},
   "source": [
    "- It appears that people, on average, scored higher for science.\n",
    "- All people scored similarly in the 25th, 50th, and 75th percentiles for math, reading, and science scores.\n",
    "- The highest recorded score is for math at 962.229.\n",
    "- The lowest recorded score is for reading at 0.083400.\n",
    "\n",
    "> Initially, I was going to handle missing and duplicate data among the upcoming **environmental + student effect** variables. However, I concluded that it's unncecessary to drop rows with missing/duplicate data. This is because we have previously established that 1) there are no duplicate records of the same students, and 2) NaN data is to be expected especially under columns that are not required information. As long as our student IDs, scores, and gender (among other necessary column fields) equal the entire number of students, then we have nothing to worry about.\n",
    "\n",
    "In that case, the rest of the data assessment focuses only on 1) isolating variables, 2) finding unique values, and 3) finding a way to normalize them quantitatively."
   ]
  },
  {
   "cell_type": "code",
   "execution_count": 40,
   "metadata": {},
   "outputs": [],
   "source": [
    "#function to isolate unique values among multiple columns in a df\n",
    "def comb_cols(df, columns):\n",
    "    return (pd.unique(df[columns].values.ravel()))"
   ]
  },
  {
   "cell_type": "markdown",
   "metadata": {},
   "source": [
    "### Teacher Helpfulness/Involvement\n",
    "\n",
    "-**Teacher Helpfulness** measures how well a teacher is dedicating their time to helping a student drive their academic performance.\n"
   ]
  },
  {
   "cell_type": "code",
   "execution_count": 41,
   "metadata": {},
   "outputs": [
    {
     "data": {
      "text/plain": [
       "array(['Strongly disagree', 'Agree', 'Disagree', 'Never or Hardly Ever',\n",
       "       'Most Lessons', 'Every Lesson', nan, 'Strongly agree',\n",
       "       'Some Lessons'], dtype=object)"
      ]
     },
     "execution_count": 41,
     "metadata": {},
     "output_type": "execute_result"
    }
   ],
   "source": [
    "#unique values across all teacher support categories\n",
    "pd.unique(pisa2012[teacher_helpfulness].values.ravel())"
   ]
  },
  {
   "cell_type": "markdown",
   "metadata": {},
   "source": [
    "> It appears some categories under `teacher_helpfulness` consist of different values. Let's check them more in-depth:"
   ]
  },
  {
   "cell_type": "code",
   "execution_count": 42,
   "metadata": {},
   "outputs": [
    {
     "name": "stdout",
     "output_type": "stream",
     "text": [
      "Teacher support: ['Strongly disagree' 'Agree' nan 'Strongly agree' 'Disagree']\n",
      "Teacher relation: ['Agree' 'Strongly disagree' 'Disagree' nan 'Strongly agree']\n",
      "Teacher direction: ['Never or Hardly Ever' 'Most Lessons' 'Every Lesson' nan 'Some Lessons']\n"
     ]
    }
   ],
   "source": [
    "#list all unique values per column under teacher_helpfulness\n",
    "print('Teacher support:', comb_cols(pisa2012, teacher_support))\n",
    "print('Teacher relation:', comb_cols(pisa2012, teacher_relation))\n",
    "print('Teacher direction:', comb_cols(pisa2012, teacher_direct))"
   ]
  },
  {
   "cell_type": "markdown",
   "metadata": {},
   "source": [
    "- Variables among `teacher_support` and `teacher_relation` are the exact same at **\"Strongly disagree,\" \"Disagree,\" \"Agree,\" \"Strongly agree,\" and \"NaN.\"** Therefore, we don't have to worry about future quantification and normalization between these 2 variables.\n",
    "\n",
    "- However, variables under `teacher_direct` are ***\"Never or Hardly Ever,\" \"Most Lessons,\" \"Every Lesson,\" \"Some Lessons,\" and \"NaN.\"*** \n",
    "\n",
    "### Sense of Belonging\n",
    "\n",
    "- **Sense of Belonging** measures how comfortable a student feels in their immediate social environment at school."
   ]
  },
  {
   "cell_type": "code",
   "execution_count": 43,
   "metadata": {},
   "outputs": [
    {
     "name": "stdout",
     "output_type": "stream",
     "text": [
      "Sense of Belonging: ['Agree' 'Strongly disagree' 'Strongly agree' nan 'Disagree']\n"
     ]
    }
   ],
   "source": [
    "#list all unique values per column\n",
    "print('Sense of Belonging:', comb_cols(pisa2012, belonging))"
   ]
  },
  {
   "cell_type": "markdown",
   "metadata": {},
   "source": [
    "- `belonging` has the same column values as `teacher_support` and `teacher_relation`.\n",
    "\n",
    "### Acculturation\n",
    "- **Acculturation** measures how well a student is assimilating into their host culture."
   ]
  },
  {
   "cell_type": "code",
   "execution_count": 44,
   "metadata": {},
   "outputs": [
    {
     "name": "stdout",
     "output_type": "stream",
     "text": [
      "Acculturation: [nan 'Agree' 'Disagree' 'Strongly disagree' 'Strongly agree']\n"
     ]
    }
   ],
   "source": [
    "print('Acculturation:', comb_cols(pisa2012, acculturation))"
   ]
  },
  {
   "cell_type": "markdown",
   "metadata": {},
   "source": [
    "- `acculturation` has the same column values as `belonging`, `teacher_support`, and `teacher_relation`.\n",
    "\n",
    "### Work Ethic\n",
    "\n",
    "- **Math Work Ethic** measures a student's focus and dedication to learning math.\n",
    "- **Perseverance** measures a student's ability to not give up and do better on their work.\n",
    "- **Truancy** measures a student's attendance."
   ]
  },
  {
   "cell_type": "code",
   "execution_count": 45,
   "metadata": {},
   "outputs": [
    {
     "name": "stdout",
     "output_type": "stream",
     "text": [
      "['Agree' 'Very much like me' 'Somewhat like me' 'None  ' '1'\n",
      " 'Strongly agree' 'Disagree' 'Not at all like me' 'Mostly like me'\n",
      " 'One or two times  ' 'Not much like me' nan '2' 'Three or four times  '\n",
      " '3' 'Strongly disagree' 'Five or more times  ' '4']\n"
     ]
    }
   ],
   "source": [
    "#comb unique values through all columns\n",
    "print(comb_cols(pisa2012, work_ethic))"
   ]
  },
  {
   "cell_type": "code",
   "execution_count": 46,
   "metadata": {},
   "outputs": [
    {
     "name": "stdout",
     "output_type": "stream",
     "text": [
      "Math Ethic: ['Agree' 'Strongly agree' 'Disagree' nan 'Strongly disagree']\n",
      "Perseverance: ['Very much like me' 'Somewhat like me' 'Not at all like me'\n",
      " 'Mostly like me' 'Not much like me' nan]\n",
      "Truancy: ['None  ' '1' 'One or two times  ' '2' 'Three or four times  ' nan '3'\n",
      " 'Five or more times  ' '4']\n"
     ]
    }
   ],
   "source": [
    "#comb unique values individually\n",
    "print('Math Ethic:', comb_cols(pisa2012, math_ethic))\n",
    "print('Perseverance:', comb_cols(pisa2012, perseverance))\n",
    "print('Truancy:', comb_cols(pisa2012, truancy))"
   ]
  },
  {
   "cell_type": "markdown",
   "metadata": {},
   "source": [
    "- `math_ethic` has the same column values as `acculturation`, `belonging`, `teacher_support`, and `teacher_relation`.\n",
    "- `perseverance` and `truancy` have no common values with each other or any other previous variable."
   ]
  },
  {
   "cell_type": "markdown",
   "metadata": {},
   "source": [
    "### Future Optimism\n",
    "- **Attitude towards School** measures a student's current perception of how useful school is in preparing them for college or a job.\n",
    "- **Instrumental Motivation** measures a student's current perception of how helpful school is in future career/study prospects."
   ]
  },
  {
   "cell_type": "code",
   "execution_count": 47,
   "metadata": {},
   "outputs": [
    {
     "data": {
      "text/plain": [
       "array(['Agree', 'Strongly agree', 'Strongly disagree', nan, 'Disagree'],\n",
       "      dtype=object)"
      ]
     },
     "execution_count": 47,
     "metadata": {},
     "output_type": "execute_result"
    }
   ],
   "source": [
    "#comb unique values through all columns\n",
    "comb_cols(pisa2012, future_optimism)"
   ]
  },
  {
   "cell_type": "markdown",
   "metadata": {},
   "source": [
    "> Both columns under `future_optimism` share the same values. But just to double-check, let's check them individually:"
   ]
  },
  {
   "cell_type": "code",
   "execution_count": 48,
   "metadata": {},
   "outputs": [
    {
     "name": "stdout",
     "output_type": "stream",
     "text": [
      "Attitudes toward School:  ['Agree' 'Strongly agree' 'Strongly disagree' nan 'Disagree']\n",
      "Motivation:  ['Agree' 'Strongly agree' 'Disagree' nan 'Strongly disagree']\n"
     ]
    }
   ],
   "source": [
    "print('Attitudes toward School: ', comb_cols(pisa2012, attitude_school))\n",
    "print('Motivation: ', comb_cols(pisa2012, motivation))"
   ]
  },
  {
   "cell_type": "markdown",
   "metadata": {},
   "source": [
    "- both `attitude_school` and `motivation` have the same values in common with `math_ethic`, `acculturation`, `belonging`, `teacher_support`, and `teacher_relation`."
   ]
  },
  {
   "cell_type": "markdown",
   "metadata": {},
   "source": [
    "### Self-Esteem\n",
    "- **Perceived Control** measures if a student feels in control of their success.\n",
    "- **Math Self-Concept** measures how a student feels about themselves in relation to math."
   ]
  },
  {
   "cell_type": "code",
   "execution_count": 49,
   "metadata": {},
   "outputs": [
    {
     "data": {
      "text/plain": [
       "array(['Strongly agree', 'Strongly disagree', 'Disagree', 'Agree', nan],\n",
       "      dtype=object)"
      ]
     },
     "execution_count": 49,
     "metadata": {},
     "output_type": "execute_result"
    }
   ],
   "source": [
    "#comb unique values through all columns\n",
    "comb_cols(pisa2012, self_esteem)"
   ]
  },
  {
   "cell_type": "code",
   "execution_count": 50,
   "metadata": {},
   "outputs": [
    {
     "name": "stdout",
     "output_type": "stream",
     "text": [
      "Perceived Control:  ['Strongly agree' 'Strongly disagree' 'Disagree' nan 'Agree']\n",
      "Math Self-Concept:  ['Disagree' 'Agree' nan 'Strongly agree' 'Strongly disagree']\n"
     ]
    }
   ],
   "source": [
    "#comb unique values individually\n",
    "print('Perceived Control: ', comb_cols(pisa2012, perceived_control))\n",
    "print('Math Self-Concept: ', comb_cols(pisa2012, math_self_concept))"
   ]
  },
  {
   "cell_type": "markdown",
   "metadata": {},
   "source": [
    "\n",
    "\n",
    "- Values among `teacher_support`, `teacher_relation`, `belonging`, `acculturation`, `math_ethic`, `attitude_school`, `motivation`, `perceived_control`, and `math_self_concept` are **\"Strongly disagree,\" \"Disagree,\" \"Agree,\" \"Strongly agree,\" and \"NaN.\"**\n",
    "\n",
    "\n",
    "- Values under `teacher_direct` are **\"Every Lesson\", \"Most Lessons\", \"Some Lessons\", \"Never or Hardly Ever\", and \"NaN.\"**\n",
    "\n",
    "\n",
    "\n",
    "- Values under `perseverance` are **\"Very much like me,\" \"Somewhat like me,\" \"Not at all like me,\" \"Mostly like me,\" \"Not much like me,\" and \"NaN.\"** \n",
    "\n",
    "\n",
    "- Values under `truancy` are **\"Five or more times,\" \"4\", \"Three or four times\", \"3\", \"2\", \"One or Two Times\", \"1\", \"None\", and \"NaN.\"**"
   ]
  },
  {
   "cell_type": "markdown",
   "metadata": {},
   "source": [
    "## Quality\n",
    "- Erroneous data types for math, reading, and science scores.\n",
    "- Florida (USA), Massachusetts (USA), and Connecticut (USA) considered as separate countries from United States of America.\n",
    "- Ordinal nature of categorical variables among these variable groups means they can be quantified:\n",
    "    - `teacher_support`, `teacher_relation`, `belonging`, `acculturation`, `math_ethic`, `attitude_school`, `motivation`, `perceived_control`, `math_self_concept`\n",
    "    - `teacher_direct`\n",
    "    - `perseverance`\n",
    "    - `truancy`\n",
    "- Unnormalized values among previous variable groups.\n",
    "    \n",
    "- Non-descriptive column names for all variable categories.\n",
    "\n",
    "\n",
    "## Tidiness\n",
    "- Abundance of unnecessary variables besides the ones isolated in pre-assessment stage.\n",
    "\n",
    "# CLEAN"
   ]
  },
  {
   "cell_type": "code",
   "execution_count": 33,
   "metadata": {},
   "outputs": [],
   "source": [
    "pisa2012_clean = pisa2012.copy()"
   ]
  },
  {
   "cell_type": "markdown",
   "metadata": {},
   "source": [
    "> **ISSUE 1:** Erroneous data types for math, reading, and science scores.\n",
    "\n",
    "**Define:** convert `PV1MATH`, `PV1READ`, and `PV1SCIE` columns to float data type.\n",
    "\n",
    "### Code"
   ]
  },
  {
   "cell_type": "code",
   "execution_count": 237,
   "metadata": {},
   "outputs": [
    {
     "data": {
      "text/html": [
       "<div>\n",
       "<style scoped>\n",
       "    .dataframe tbody tr th:only-of-type {\n",
       "        vertical-align: middle;\n",
       "    }\n",
       "\n",
       "    .dataframe tbody tr th {\n",
       "        vertical-align: top;\n",
       "    }\n",
       "\n",
       "    .dataframe thead th {\n",
       "        text-align: right;\n",
       "    }\n",
       "</style>\n",
       "<table border=\"1\" class=\"dataframe\">\n",
       "  <thead>\n",
       "    <tr style=\"text-align: right;\">\n",
       "      <th></th>\n",
       "      <th>PV1MATH</th>\n",
       "      <th>PV1READ</th>\n",
       "      <th>PV1SCIE</th>\n",
       "    </tr>\n",
       "  </thead>\n",
       "  <tbody>\n",
       "    <tr>\n",
       "      <th>0</th>\n",
       "      <td>406.8469</td>\n",
       "      <td>249.5762</td>\n",
       "      <td>341.7009</td>\n",
       "    </tr>\n",
       "    <tr>\n",
       "      <th>1</th>\n",
       "      <td>486.1427</td>\n",
       "      <td>406.2936</td>\n",
       "      <td>548.9929</td>\n",
       "    </tr>\n",
       "    <tr>\n",
       "      <th>2</th>\n",
       "      <td>533.2684</td>\n",
       "      <td>401.21</td>\n",
       "      <td>499.6643</td>\n",
       "    </tr>\n",
       "    <tr>\n",
       "      <th>3</th>\n",
       "      <td>412.2215</td>\n",
       "      <td>547.363</td>\n",
       "      <td>438.6796</td>\n",
       "    </tr>\n",
       "    <tr>\n",
       "      <th>4</th>\n",
       "      <td>381.9209</td>\n",
       "      <td>311.7707</td>\n",
       "      <td>361.5628</td>\n",
       "    </tr>\n",
       "  </tbody>\n",
       "</table>\n",
       "</div>"
      ],
      "text/plain": [
       "    PV1MATH   PV1READ   PV1SCIE\n",
       "0  406.8469  249.5762  341.7009\n",
       "1  486.1427  406.2936  548.9929\n",
       "2  533.2684    401.21  499.6643\n",
       "3  412.2215   547.363  438.6796\n",
       "4  381.9209  311.7707  361.5628"
      ]
     },
     "execution_count": 237,
     "metadata": {},
     "output_type": "execute_result"
    }
   ],
   "source": [
    "#isolate score columns\n",
    "scores = ['PV1MATH', 'PV1READ', 'PV1SCIE']\n",
    "pisa2012_clean[scores].head()"
   ]
  },
  {
   "cell_type": "code",
   "execution_count": 238,
   "metadata": {},
   "outputs": [],
   "source": [
    "#convert columns to float\n",
    "pisa2012_clean[scores] = pisa2012_clean[scores].astype(float)"
   ]
  },
  {
   "cell_type": "markdown",
   "metadata": {},
   "source": [
    "### Test"
   ]
  },
  {
   "cell_type": "code",
   "execution_count": 239,
   "metadata": {},
   "outputs": [
    {
     "name": "stdout",
     "output_type": "stream",
     "text": [
      "<class 'pandas.core.frame.DataFrame'>\n",
      "RangeIndex: 485490 entries, 0 to 485489\n",
      "Data columns (total 3 columns):\n",
      "PV1MATH    485490 non-null float64\n",
      "PV1READ    485490 non-null float64\n",
      "PV1SCIE    485490 non-null float64\n",
      "dtypes: float64(3)\n",
      "memory usage: 11.1 MB\n"
     ]
    }
   ],
   "source": [
    "pisa2012_clean[scores].info()"
   ]
  },
  {
   "cell_type": "markdown",
   "metadata": {},
   "source": [
    "> **ISSUE 2:** Florida (USA), Massachusetts (USA), and Connecticut (USA) considered as separate countries from United States of America.\n",
    "\n",
    "**Define:** change state names to United States of America.\n",
    "\n",
    "### Code"
   ]
  },
  {
   "cell_type": "code",
   "execution_count": 240,
   "metadata": {},
   "outputs": [],
   "source": [
    "#isolate state names\n",
    "states = ['Florida (USA)', 'Massachusetts (USA)', 'Connecticut (USA)']"
   ]
  },
  {
   "cell_type": "code",
   "execution_count": 241,
   "metadata": {},
   "outputs": [],
   "source": [
    "#correct states\n",
    "pisa2012_clean.loc[pisa2012_clean.CNT.isin(states), 'CNT'] = 'United States of America'"
   ]
  },
  {
   "cell_type": "markdown",
   "metadata": {},
   "source": [
    "### Test"
   ]
  },
  {
   "cell_type": "code",
   "execution_count": 242,
   "metadata": {},
   "outputs": [
    {
     "data": {
      "text/plain": [
       "65"
      ]
     },
     "execution_count": 242,
     "metadata": {},
     "output_type": "execute_result"
    }
   ],
   "source": [
    "#there should be only 65 countries instead of 68\n",
    "pisa2012_clean.CNT.nunique()"
   ]
  },
  {
   "cell_type": "markdown",
   "metadata": {},
   "source": [
    "> **ISSUE 3:** \n",
    "- Ordinal nature of categorical variables among these variable groups means they can be quantified:\n",
    "    1. `teacher_support`, `teacher_relation`, `belonging`, `acculturation`, `math_ethic`, `attitude_school`, `motivation`, `perceived_control`, `math_self_concept`\n",
    "    2. `teacher_direct`\n",
    "    3. `perseverance`\n",
    "    4. `truancy`\n",
    "\n",
    "**Define:** Come up with a scoring system for each variable group.\n",
    "\n",
    "> For each variable group, each value will be assigned a value as follows:\n",
    "\n",
    "**Group 1**\n",
    "- \"Strongly agree\" : 4\n",
    "- \"Agree\" : 3\n",
    "- \"Disagree\" : 2\n",
    "- \"Strongly Disagree\" : 1\n",
    "\n",
    "**Group 2 (Teacher-Directed Instruction)**\n",
    "- \"Every Lesson\" : 4\n",
    "- \"Most Lessons\" : 3\n",
    "- \"Some Lessons\" : 2\n",
    "- \"Never or Hardly Ever\": 1\n",
    "\n",
    "**Group 3 (Perseverance)**\n",
    "- \"Very much like me\" : 5\n",
    "- \"Mostly like me\" : 4\n",
    "- \"Somewhat like me\" : 3\n",
    "- \"Not much like me\" : 2\n",
    "- \"Not at all like me\" : 1\n",
    "\n",
    "**Group 4 (Truancy)**\n",
    "- \"Five or more times\" : 5\n",
    "- \"4\" : 4\n",
    "- \"Three or four times\" : 3.5\n",
    "- \"3\" : 3\n",
    "- \"2\" : 2\n",
    "- \"One or Two Times\" : 1.5\n",
    "- \"1\" : 1\n",
    "\n",
    "***Before going on to create scoring systems, it is important to keep note of the following:***\n",
    "- under `belonging`, ST87Q01, ST87Q04, ST87Q06 ask the student ***negative feelings*** about themselves. \n",
    "- under `attitude_school`, ST88Q01 and ST88Q02 evaluate negative ***perceptions*** the student has about school.\n",
    "- under `perceived_control`, ST91Q03 and ST91Q06 evaluate things the student feels is ***out of their control***.\n",
    "- under `math_self_concept`, ST42Q02 focuses on ***pessimistic self-perception***.\n",
    "\n",
    "- under `perseverance`, ST93Q01 and ST93Q03 evaluate ***demotivating factors*** against the student's work ethic.\n",
    "\n",
    "> For the above individual questions, ***the scoring values will be reversed.*** For example, \"Strongly agree\" will be assigned 1 instead of 4. And so forth.\n",
    "\n",
    "### Code"
   ]
  },
  {
   "cell_type": "code",
   "execution_count": 6,
   "metadata": {},
   "outputs": [],
   "source": [
    "#isolate reverse questions\n",
    "\n",
    "#group1\n",
    "belonging_reverse = ['ST87Q01', 'ST87Q04', 'ST87Q06']\n",
    "attitude_school_reverse = ['ST88Q01', 'ST88Q02']\n",
    "perceived_control_reverse = ['ST91Q03', 'ST91Q06']\n",
    "math_self_concept_reverse = ['ST42Q02']\n",
    "\n",
    "#group3\n",
    "perseverance_reverse = np.array(['ST93Q01', 'ST93Q03'])"
   ]
  },
  {
   "cell_type": "code",
   "execution_count": 7,
   "metadata": {},
   "outputs": [],
   "source": [
    "#group questions to be reversed\n",
    "group1_reverse = np.concatenate([belonging_reverse, attitude_school_reverse,\n",
    "                                 perceived_control_reverse, math_self_concept_reverse]).ravel()\n",
    "group3_reverse = perseverance_reverse"
   ]
  },
  {
   "cell_type": "code",
   "execution_count": 18,
   "metadata": {},
   "outputs": [],
   "source": [
    "#isolate all question groups \n",
    "group1 = (np.concatenate([teacher_support, teacher_relation, belonging, acculturation, math_ethic,\n",
    "          attitude_school, motivation, perceived_control, math_self_concept]).ravel())\n",
    "group2 = teacher_direct\n",
    "group3 = perseverance\n",
    "group4 = truancy"
   ]
  },
  {
   "cell_type": "markdown",
   "metadata": {},
   "source": [
    "> Even though variable groups 2 through 4 are singular fields, I assigned them to new variables anyway for the sake of code readability.\n",
    "\n",
    "I want to deal with score assignment on **normal questions** and **reverse-scoring questions** separately. This means getting rid of the reverse-scoring questions from the main grouped variables."
   ]
  },
  {
   "cell_type": "code",
   "execution_count": 19,
   "metadata": {},
   "outputs": [],
   "source": [
    "#index to-be-reversed questions from group 1 and 3\n",
    "indices1 = [i for (i, v) in enumerate(group1) if (v == group1_reverse).any()]\n",
    "indices3 = [i for (i, v) in enumerate(group3) if (v == group3_reverse).any()]"
   ]
  },
  {
   "cell_type": "code",
   "execution_count": 20,
   "metadata": {},
   "outputs": [],
   "source": [
    "#remove to-be-reversed questions from group 1 and 3\n",
    "group1_clean = np.delete(group1, indices1)\n",
    "group3_clean = np.delete(group3, indices3)"
   ]
  },
  {
   "cell_type": "markdown",
   "metadata": {},
   "source": [
    "### Test\n",
    "\n",
    "> Compare our original `pisa2012` DataFrame to our `pisa2012_clean` one, since the clean version has been altered"
   ]
  },
  {
   "cell_type": "code",
   "execution_count": 248,
   "metadata": {},
   "outputs": [
    {
     "name": "stdout",
     "output_type": "stream",
     "text": [
      "The original dataset has 55 columns for group 1.\n",
      "There are 8 columns whose scores we need to reverse.\n",
      "Group 1 for our dataset now has 47 columns.\n"
     ]
    }
   ],
   "source": [
    "#verify we separated our group 1 normal and to-be-reversed scores correctly\n",
    "print('The original dataset has {} columns for group 1.'.format(pisa2012[group1].shape[1]))\n",
    "print('There are {} columns whose scores we need to reverse.'.format(pisa2012[group1_reverse].shape[1]))\n",
    "print('Group 1 for our dataset now has {} columns.'.format(pisa2012_clean[group1_clean].shape[1]))"
   ]
  },
  {
   "cell_type": "code",
   "execution_count": 249,
   "metadata": {},
   "outputs": [
    {
     "name": "stdout",
     "output_type": "stream",
     "text": [
      "The original dataset has 5 columns for group 3.\n",
      "There are 2 columns whose scores we need to reverse.\n",
      "Group 3 for our dataset now has 3 columns.\n"
     ]
    }
   ],
   "source": [
    "#verify we separated our group 3 scores correctly\n",
    "print('The original dataset has {} columns for group 3.'.format(pisa2012[group3].shape[1]))\n",
    "print('There are {} columns whose scores we need to reverse.'.format(pisa2012[group3_reverse].shape[1]))\n",
    "print('Group 3 for our dataset now has {} columns.'.format(pisa2012_clean[group3_clean].shape[1]))"
   ]
  },
  {
   "cell_type": "markdown",
   "metadata": {},
   "source": [
    "### Code\n",
    "\n",
    "**Group 1 Score Assignment**"
   ]
  },
  {
   "cell_type": "code",
   "execution_count": 250,
   "metadata": {},
   "outputs": [],
   "source": [
    "#create score dictionary\n",
    "group1_score = {'Strongly agree' : 4,\n",
    "               'Agree' : 3,\n",
    "               'Disagree' : 2,\n",
    "               'Strongly disagree' : 1}"
   ]
  },
  {
   "cell_type": "code",
   "execution_count": 251,
   "metadata": {},
   "outputs": [],
   "source": [
    "#reverse score dictionary\n",
    "group1_score_reverse = {'Strongly agree' : 1,\n",
    "                       'Agree' : 2,\n",
    "                       'Disagree' : 3,\n",
    "                       'Strongly disagree' : 4}"
   ]
  },
  {
   "cell_type": "code",
   "execution_count": 252,
   "metadata": {},
   "outputs": [],
   "source": [
    "#assign reverse scoring first\n",
    "pisa2012_clean[group1_reverse] = pisa2012_clean[group1_reverse].stack().map(group1_score_reverse).unstack()"
   ]
  },
  {
   "cell_type": "code",
   "execution_count": 253,
   "metadata": {},
   "outputs": [],
   "source": [
    "#assign normal scoring\n",
    "pisa2012_clean[group1_clean] = pisa2012_clean[group1_clean].stack().map(group1_score).unstack()"
   ]
  },
  {
   "cell_type": "markdown",
   "metadata": {},
   "source": [
    "### Test\n",
    "\n",
    "- Compare both original and clean versions of DataFrame, as our clean version is altered."
   ]
  },
  {
   "cell_type": "code",
   "execution_count": 254,
   "metadata": {},
   "outputs": [
    {
     "data": {
      "text/html": [
       "<div>\n",
       "<style scoped>\n",
       "    .dataframe tbody tr th:only-of-type {\n",
       "        vertical-align: middle;\n",
       "    }\n",
       "\n",
       "    .dataframe tbody tr th {\n",
       "        vertical-align: top;\n",
       "    }\n",
       "\n",
       "    .dataframe thead th {\n",
       "        text-align: right;\n",
       "    }\n",
       "</style>\n",
       "<table border=\"1\" class=\"dataframe\">\n",
       "  <thead>\n",
       "    <tr style=\"text-align: right;\">\n",
       "      <th></th>\n",
       "      <th>ST87Q01</th>\n",
       "      <th>ST87Q04</th>\n",
       "      <th>ST87Q06</th>\n",
       "      <th>ST88Q01</th>\n",
       "      <th>ST88Q02</th>\n",
       "      <th>ST91Q03</th>\n",
       "      <th>ST91Q06</th>\n",
       "      <th>ST42Q02</th>\n",
       "    </tr>\n",
       "  </thead>\n",
       "  <tbody>\n",
       "    <tr>\n",
       "      <th>Strongly agree</th>\n",
       "      <td>13844</td>\n",
       "      <td>12453</td>\n",
       "      <td>10164</td>\n",
       "      <td>30700</td>\n",
       "      <td>11433</td>\n",
       "      <td>29721</td>\n",
       "      <td>19941</td>\n",
       "      <td>51409</td>\n",
       "    </tr>\n",
       "    <tr>\n",
       "      <th>Agree</th>\n",
       "      <td>27910</td>\n",
       "      <td>33872</td>\n",
       "      <td>25413</td>\n",
       "      <td>74493</td>\n",
       "      <td>25060</td>\n",
       "      <td>83815</td>\n",
       "      <td>47525</td>\n",
       "      <td>91811</td>\n",
       "    </tr>\n",
       "    <tr>\n",
       "      <th>Disagree</th>\n",
       "      <td>137026</td>\n",
       "      <td>137745</td>\n",
       "      <td>125801</td>\n",
       "      <td>151993</td>\n",
       "      <td>154332</td>\n",
       "      <td>133990</td>\n",
       "      <td>139579</td>\n",
       "      <td>118658</td>\n",
       "    </tr>\n",
       "    <tr>\n",
       "      <th>Strongly disagree</th>\n",
       "      <td>132996</td>\n",
       "      <td>126928</td>\n",
       "      <td>149574</td>\n",
       "      <td>54064</td>\n",
       "      <td>120139</td>\n",
       "      <td>62300</td>\n",
       "      <td>102611</td>\n",
       "      <td>51624</td>\n",
       "    </tr>\n",
       "  </tbody>\n",
       "</table>\n",
       "</div>"
      ],
      "text/plain": [
       "                   ST87Q01  ST87Q04  ST87Q06  ST88Q01  ST88Q02  ST91Q03  \\\n",
       "Strongly agree       13844    12453    10164    30700    11433    29721   \n",
       "Agree                27910    33872    25413    74493    25060    83815   \n",
       "Disagree            137026   137745   125801   151993   154332   133990   \n",
       "Strongly disagree   132996   126928   149574    54064   120139    62300   \n",
       "\n",
       "                   ST91Q06  ST42Q02  \n",
       "Strongly agree       19941    51409  \n",
       "Agree                47525    91811  \n",
       "Disagree            139579   118658  \n",
       "Strongly disagree   102611    51624  "
      ]
     },
     "execution_count": 254,
     "metadata": {},
     "output_type": "execute_result"
    }
   ],
   "source": [
    "#make sure counts are consistent \n",
    "\n",
    "#reverse questions\n",
    "pisa2012[group1_reverse].apply(pd.Series.value_counts).reindex(index = ['Strongly agree', 'Agree', 'Disagree', 'Strongly disagree'])"
   ]
  },
  {
   "cell_type": "code",
   "execution_count": 255,
   "metadata": {},
   "outputs": [
    {
     "data": {
      "text/html": [
       "<div>\n",
       "<style scoped>\n",
       "    .dataframe tbody tr th:only-of-type {\n",
       "        vertical-align: middle;\n",
       "    }\n",
       "\n",
       "    .dataframe tbody tr th {\n",
       "        vertical-align: top;\n",
       "    }\n",
       "\n",
       "    .dataframe thead th {\n",
       "        text-align: right;\n",
       "    }\n",
       "</style>\n",
       "<table border=\"1\" class=\"dataframe\">\n",
       "  <thead>\n",
       "    <tr style=\"text-align: right;\">\n",
       "      <th></th>\n",
       "      <th>ST87Q01</th>\n",
       "      <th>ST87Q04</th>\n",
       "      <th>ST87Q06</th>\n",
       "      <th>ST88Q01</th>\n",
       "      <th>ST88Q02</th>\n",
       "      <th>ST91Q03</th>\n",
       "      <th>ST91Q06</th>\n",
       "      <th>ST42Q02</th>\n",
       "    </tr>\n",
       "  </thead>\n",
       "  <tbody>\n",
       "    <tr>\n",
       "      <th>1.0</th>\n",
       "      <td>13844</td>\n",
       "      <td>12453</td>\n",
       "      <td>10164</td>\n",
       "      <td>30700</td>\n",
       "      <td>11433</td>\n",
       "      <td>29721</td>\n",
       "      <td>19941</td>\n",
       "      <td>51409</td>\n",
       "    </tr>\n",
       "    <tr>\n",
       "      <th>2.0</th>\n",
       "      <td>27910</td>\n",
       "      <td>33872</td>\n",
       "      <td>25413</td>\n",
       "      <td>74493</td>\n",
       "      <td>25060</td>\n",
       "      <td>83815</td>\n",
       "      <td>47525</td>\n",
       "      <td>91811</td>\n",
       "    </tr>\n",
       "    <tr>\n",
       "      <th>3.0</th>\n",
       "      <td>137026</td>\n",
       "      <td>137745</td>\n",
       "      <td>125801</td>\n",
       "      <td>151993</td>\n",
       "      <td>154332</td>\n",
       "      <td>133990</td>\n",
       "      <td>139579</td>\n",
       "      <td>118658</td>\n",
       "    </tr>\n",
       "    <tr>\n",
       "      <th>4.0</th>\n",
       "      <td>132996</td>\n",
       "      <td>126928</td>\n",
       "      <td>149574</td>\n",
       "      <td>54064</td>\n",
       "      <td>120139</td>\n",
       "      <td>62300</td>\n",
       "      <td>102611</td>\n",
       "      <td>51624</td>\n",
       "    </tr>\n",
       "  </tbody>\n",
       "</table>\n",
       "</div>"
      ],
      "text/plain": [
       "     ST87Q01  ST87Q04  ST87Q06  ST88Q01  ST88Q02  ST91Q03  ST91Q06  ST42Q02\n",
       "1.0    13844    12453    10164    30700    11433    29721    19941    51409\n",
       "2.0    27910    33872    25413    74493    25060    83815    47525    91811\n",
       "3.0   137026   137745   125801   151993   154332   133990   139579   118658\n",
       "4.0   132996   126928   149574    54064   120139    62300   102611    51624"
      ]
     },
     "execution_count": 255,
     "metadata": {},
     "output_type": "execute_result"
    }
   ],
   "source": [
    "pisa2012_clean[group1_reverse].apply(pd.Series.value_counts)"
   ]
  },
  {
   "cell_type": "code",
   "execution_count": 256,
   "metadata": {},
   "outputs": [
    {
     "data": {
      "text/html": [
       "<div>\n",
       "<style scoped>\n",
       "    .dataframe tbody tr th:only-of-type {\n",
       "        vertical-align: middle;\n",
       "    }\n",
       "\n",
       "    .dataframe tbody tr th {\n",
       "        vertical-align: top;\n",
       "    }\n",
       "\n",
       "    .dataframe thead th {\n",
       "        text-align: right;\n",
       "    }\n",
       "</style>\n",
       "<table border=\"1\" class=\"dataframe\">\n",
       "  <thead>\n",
       "    <tr style=\"text-align: right;\">\n",
       "      <th></th>\n",
       "      <th>ST83Q01</th>\n",
       "      <th>ST83Q02</th>\n",
       "      <th>ST83Q03</th>\n",
       "      <th>ST83Q04</th>\n",
       "      <th>ST86Q01</th>\n",
       "      <th>ST86Q02</th>\n",
       "      <th>ST86Q03</th>\n",
       "      <th>ST86Q04</th>\n",
       "      <th>ST86Q05</th>\n",
       "      <th>ST87Q02</th>\n",
       "      <th>...</th>\n",
       "      <th>ST29Q07</th>\n",
       "      <th>ST29Q08</th>\n",
       "      <th>ST91Q01</th>\n",
       "      <th>ST91Q02</th>\n",
       "      <th>ST91Q04</th>\n",
       "      <th>ST91Q05</th>\n",
       "      <th>ST42Q04</th>\n",
       "      <th>ST42Q06</th>\n",
       "      <th>ST42Q07</th>\n",
       "      <th>ST42Q09</th>\n",
       "    </tr>\n",
       "  </thead>\n",
       "  <tbody>\n",
       "    <tr>\n",
       "      <th>Strongly disagree</th>\n",
       "      <td>7685.0</td>\n",
       "      <td>12929.0</td>\n",
       "      <td>10361.0</td>\n",
       "      <td>18256.0</td>\n",
       "      <td>7036.0</td>\n",
       "      <td>9483.0</td>\n",
       "      <td>11629.0</td>\n",
       "      <td>9991.0</td>\n",
       "      <td>12589.0</td>\n",
       "      <td>6134.0</td>\n",
       "      <td>...</td>\n",
       "      <td>26612.0</td>\n",
       "      <td>21700.0</td>\n",
       "      <td>2010.0</td>\n",
       "      <td>6201.0</td>\n",
       "      <td>38360.0</td>\n",
       "      <td>6493.0</td>\n",
       "      <td>28895.0</td>\n",
       "      <td>35775.0</td>\n",
       "      <td>74462.0</td>\n",
       "      <td>57153.0</td>\n",
       "    </tr>\n",
       "    <tr>\n",
       "      <th>Disgree</th>\n",
       "      <td>NaN</td>\n",
       "      <td>NaN</td>\n",
       "      <td>NaN</td>\n",
       "      <td>NaN</td>\n",
       "      <td>NaN</td>\n",
       "      <td>NaN</td>\n",
       "      <td>NaN</td>\n",
       "      <td>NaN</td>\n",
       "      <td>NaN</td>\n",
       "      <td>NaN</td>\n",
       "      <td>...</td>\n",
       "      <td>NaN</td>\n",
       "      <td>NaN</td>\n",
       "      <td>NaN</td>\n",
       "      <td>NaN</td>\n",
       "      <td>NaN</td>\n",
       "      <td>NaN</td>\n",
       "      <td>NaN</td>\n",
       "      <td>NaN</td>\n",
       "      <td>NaN</td>\n",
       "      <td>NaN</td>\n",
       "    </tr>\n",
       "    <tr>\n",
       "      <th>Agree</th>\n",
       "      <td>161908.0</td>\n",
       "      <td>148382.0</td>\n",
       "      <td>152294.0</td>\n",
       "      <td>147403.0</td>\n",
       "      <td>180918.0</td>\n",
       "      <td>175300.0</td>\n",
       "      <td>168284.0</td>\n",
       "      <td>173260.0</td>\n",
       "      <td>174259.0</td>\n",
       "      <td>174067.0</td>\n",
       "      <td>...</td>\n",
       "      <td>132131.0</td>\n",
       "      <td>150347.0</td>\n",
       "      <td>122392.0</td>\n",
       "      <td>133755.0</td>\n",
       "      <td>89947.0</td>\n",
       "      <td>143900.0</td>\n",
       "      <td>135358.0</td>\n",
       "      <td>119008.0</td>\n",
       "      <td>77922.0</td>\n",
       "      <td>93920.0</td>\n",
       "    </tr>\n",
       "    <tr>\n",
       "      <th>Strongly agree</th>\n",
       "      <td>112922.0</td>\n",
       "      <td>113717.0</td>\n",
       "      <td>117920.0</td>\n",
       "      <td>103626.0</td>\n",
       "      <td>81459.0</td>\n",
       "      <td>76449.0</td>\n",
       "      <td>69420.0</td>\n",
       "      <td>86203.0</td>\n",
       "      <td>84213.0</td>\n",
       "      <td>100024.0</td>\n",
       "      <td>...</td>\n",
       "      <td>90470.0</td>\n",
       "      <td>85236.0</td>\n",
       "      <td>178051.0</td>\n",
       "      <td>131638.0</td>\n",
       "      <td>43736.0</td>\n",
       "      <td>132345.0</td>\n",
       "      <td>50867.0</td>\n",
       "      <td>46023.0</td>\n",
       "      <td>49600.0</td>\n",
       "      <td>30206.0</td>\n",
       "    </tr>\n",
       "  </tbody>\n",
       "</table>\n",
       "<p>4 rows × 47 columns</p>\n",
       "</div>"
      ],
      "text/plain": [
       "                    ST83Q01   ST83Q02   ST83Q03   ST83Q04   ST86Q01   ST86Q02  \\\n",
       "Strongly disagree    7685.0   12929.0   10361.0   18256.0    7036.0    9483.0   \n",
       "Disgree                 NaN       NaN       NaN       NaN       NaN       NaN   \n",
       "Agree              161908.0  148382.0  152294.0  147403.0  180918.0  175300.0   \n",
       "Strongly agree     112922.0  113717.0  117920.0  103626.0   81459.0   76449.0   \n",
       "\n",
       "                    ST86Q03   ST86Q04   ST86Q05   ST87Q02  ...   ST29Q07  \\\n",
       "Strongly disagree   11629.0    9991.0   12589.0    6134.0  ...   26612.0   \n",
       "Disgree                 NaN       NaN       NaN       NaN  ...       NaN   \n",
       "Agree              168284.0  173260.0  174259.0  174067.0  ...  132131.0   \n",
       "Strongly agree      69420.0   86203.0   84213.0  100024.0  ...   90470.0   \n",
       "\n",
       "                    ST29Q08   ST91Q01   ST91Q02  ST91Q04   ST91Q05   ST42Q04  \\\n",
       "Strongly disagree   21700.0    2010.0    6201.0  38360.0    6493.0   28895.0   \n",
       "Disgree                 NaN       NaN       NaN      NaN       NaN       NaN   \n",
       "Agree              150347.0  122392.0  133755.0  89947.0  143900.0  135358.0   \n",
       "Strongly agree      85236.0  178051.0  131638.0  43736.0  132345.0   50867.0   \n",
       "\n",
       "                    ST42Q06  ST42Q07  ST42Q09  \n",
       "Strongly disagree   35775.0  74462.0  57153.0  \n",
       "Disgree                 NaN      NaN      NaN  \n",
       "Agree              119008.0  77922.0  93920.0  \n",
       "Strongly agree      46023.0  49600.0  30206.0  \n",
       "\n",
       "[4 rows x 47 columns]"
      ]
     },
     "execution_count": 256,
     "metadata": {},
     "output_type": "execute_result"
    }
   ],
   "source": [
    "#normal questions\n",
    "pisa2012[group1_clean].apply(pd.Series.value_counts).reindex(index = ['Strongly disagree', 'Disgree', 'Agree', 'Strongly agree'])"
   ]
  },
  {
   "cell_type": "code",
   "execution_count": 257,
   "metadata": {},
   "outputs": [
    {
     "data": {
      "text/html": [
       "<div>\n",
       "<style scoped>\n",
       "    .dataframe tbody tr th:only-of-type {\n",
       "        vertical-align: middle;\n",
       "    }\n",
       "\n",
       "    .dataframe tbody tr th {\n",
       "        vertical-align: top;\n",
       "    }\n",
       "\n",
       "    .dataframe thead th {\n",
       "        text-align: right;\n",
       "    }\n",
       "</style>\n",
       "<table border=\"1\" class=\"dataframe\">\n",
       "  <thead>\n",
       "    <tr style=\"text-align: right;\">\n",
       "      <th></th>\n",
       "      <th>ST83Q01</th>\n",
       "      <th>ST83Q02</th>\n",
       "      <th>ST83Q03</th>\n",
       "      <th>ST83Q04</th>\n",
       "      <th>ST86Q01</th>\n",
       "      <th>ST86Q02</th>\n",
       "      <th>ST86Q03</th>\n",
       "      <th>ST86Q04</th>\n",
       "      <th>ST86Q05</th>\n",
       "      <th>ST87Q02</th>\n",
       "      <th>...</th>\n",
       "      <th>ST29Q07</th>\n",
       "      <th>ST29Q08</th>\n",
       "      <th>ST91Q01</th>\n",
       "      <th>ST91Q02</th>\n",
       "      <th>ST91Q04</th>\n",
       "      <th>ST91Q05</th>\n",
       "      <th>ST42Q04</th>\n",
       "      <th>ST42Q06</th>\n",
       "      <th>ST42Q07</th>\n",
       "      <th>ST42Q09</th>\n",
       "    </tr>\n",
       "  </thead>\n",
       "  <tbody>\n",
       "    <tr>\n",
       "      <th>1.0</th>\n",
       "      <td>7685</td>\n",
       "      <td>12929</td>\n",
       "      <td>10361</td>\n",
       "      <td>18256</td>\n",
       "      <td>7036</td>\n",
       "      <td>9483</td>\n",
       "      <td>11629</td>\n",
       "      <td>9991</td>\n",
       "      <td>12589</td>\n",
       "      <td>6134</td>\n",
       "      <td>...</td>\n",
       "      <td>26612</td>\n",
       "      <td>21700</td>\n",
       "      <td>2010</td>\n",
       "      <td>6201</td>\n",
       "      <td>38360</td>\n",
       "      <td>6493</td>\n",
       "      <td>28895</td>\n",
       "      <td>35775</td>\n",
       "      <td>74462</td>\n",
       "      <td>57153</td>\n",
       "    </tr>\n",
       "    <tr>\n",
       "      <th>2.0</th>\n",
       "      <td>30990</td>\n",
       "      <td>38084</td>\n",
       "      <td>32368</td>\n",
       "      <td>43660</td>\n",
       "      <td>43810</td>\n",
       "      <td>51359</td>\n",
       "      <td>62855</td>\n",
       "      <td>42840</td>\n",
       "      <td>40843</td>\n",
       "      <td>31913</td>\n",
       "      <td>...</td>\n",
       "      <td>65853</td>\n",
       "      <td>57949</td>\n",
       "      <td>8977</td>\n",
       "      <td>38802</td>\n",
       "      <td>137355</td>\n",
       "      <td>26872</td>\n",
       "      <td>96860</td>\n",
       "      <td>111521</td>\n",
       "      <td>110599</td>\n",
       "      <td>130944</td>\n",
       "    </tr>\n",
       "    <tr>\n",
       "      <th>3.0</th>\n",
       "      <td>161908</td>\n",
       "      <td>148382</td>\n",
       "      <td>152294</td>\n",
       "      <td>147403</td>\n",
       "      <td>180918</td>\n",
       "      <td>175300</td>\n",
       "      <td>168284</td>\n",
       "      <td>173260</td>\n",
       "      <td>174259</td>\n",
       "      <td>174067</td>\n",
       "      <td>...</td>\n",
       "      <td>132131</td>\n",
       "      <td>150347</td>\n",
       "      <td>122392</td>\n",
       "      <td>133755</td>\n",
       "      <td>89947</td>\n",
       "      <td>143900</td>\n",
       "      <td>135358</td>\n",
       "      <td>119008</td>\n",
       "      <td>77922</td>\n",
       "      <td>93920</td>\n",
       "    </tr>\n",
       "    <tr>\n",
       "      <th>4.0</th>\n",
       "      <td>112922</td>\n",
       "      <td>113717</td>\n",
       "      <td>117920</td>\n",
       "      <td>103626</td>\n",
       "      <td>81459</td>\n",
       "      <td>76449</td>\n",
       "      <td>69420</td>\n",
       "      <td>86203</td>\n",
       "      <td>84213</td>\n",
       "      <td>100024</td>\n",
       "      <td>...</td>\n",
       "      <td>90470</td>\n",
       "      <td>85236</td>\n",
       "      <td>178051</td>\n",
       "      <td>131638</td>\n",
       "      <td>43736</td>\n",
       "      <td>132345</td>\n",
       "      <td>50867</td>\n",
       "      <td>46023</td>\n",
       "      <td>49600</td>\n",
       "      <td>30206</td>\n",
       "    </tr>\n",
       "  </tbody>\n",
       "</table>\n",
       "<p>4 rows × 47 columns</p>\n",
       "</div>"
      ],
      "text/plain": [
       "     ST83Q01  ST83Q02  ST83Q03  ST83Q04  ST86Q01  ST86Q02  ST86Q03  ST86Q04  \\\n",
       "1.0     7685    12929    10361    18256     7036     9483    11629     9991   \n",
       "2.0    30990    38084    32368    43660    43810    51359    62855    42840   \n",
       "3.0   161908   148382   152294   147403   180918   175300   168284   173260   \n",
       "4.0   112922   113717   117920   103626    81459    76449    69420    86203   \n",
       "\n",
       "     ST86Q05  ST87Q02  ...  ST29Q07  ST29Q08  ST91Q01  ST91Q02  ST91Q04  \\\n",
       "1.0    12589     6134  ...    26612    21700     2010     6201    38360   \n",
       "2.0    40843    31913  ...    65853    57949     8977    38802   137355   \n",
       "3.0   174259   174067  ...   132131   150347   122392   133755    89947   \n",
       "4.0    84213   100024  ...    90470    85236   178051   131638    43736   \n",
       "\n",
       "     ST91Q05  ST42Q04  ST42Q06  ST42Q07  ST42Q09  \n",
       "1.0     6493    28895    35775    74462    57153  \n",
       "2.0    26872    96860   111521   110599   130944  \n",
       "3.0   143900   135358   119008    77922    93920  \n",
       "4.0   132345    50867    46023    49600    30206  \n",
       "\n",
       "[4 rows x 47 columns]"
      ]
     },
     "execution_count": 257,
     "metadata": {},
     "output_type": "execute_result"
    }
   ],
   "source": [
    "pisa2012_clean[group1_clean].apply(pd.Series.value_counts)"
   ]
  },
  {
   "cell_type": "markdown",
   "metadata": {},
   "source": [
    "### Code\n",
    "\n",
    "**Group 2 Score Assignment**"
   ]
  },
  {
   "cell_type": "code",
   "execution_count": 258,
   "metadata": {},
   "outputs": [],
   "source": [
    "#create score dictionary\n",
    "group2_score = {'Every Lesson' : 4,\n",
    "                'Most Lessons' : 3,\n",
    "                'Some Lessons' : 2,\n",
    "                'Never or Hardly Ever': 1}"
   ]
  },
  {
   "cell_type": "code",
   "execution_count": 259,
   "metadata": {},
   "outputs": [],
   "source": [
    "#assign scoring\n",
    "pisa2012_clean[group2] = pisa2012_clean[group2].stack().map(group2_score).unstack()"
   ]
  },
  {
   "cell_type": "markdown",
   "metadata": {},
   "source": [
    "### Test"
   ]
  },
  {
   "cell_type": "code",
   "execution_count": 260,
   "metadata": {},
   "outputs": [
    {
     "data": {
      "text/html": [
       "<div>\n",
       "<style scoped>\n",
       "    .dataframe tbody tr th:only-of-type {\n",
       "        vertical-align: middle;\n",
       "    }\n",
       "\n",
       "    .dataframe tbody tr th {\n",
       "        vertical-align: top;\n",
       "    }\n",
       "\n",
       "    .dataframe thead th {\n",
       "        text-align: right;\n",
       "    }\n",
       "</style>\n",
       "<table border=\"1\" class=\"dataframe\">\n",
       "  <thead>\n",
       "    <tr style=\"text-align: right;\">\n",
       "      <th></th>\n",
       "      <th>ST79Q01</th>\n",
       "      <th>ST79Q02</th>\n",
       "      <th>ST79Q06</th>\n",
       "      <th>ST79Q08</th>\n",
       "      <th>ST79Q15</th>\n",
       "    </tr>\n",
       "  </thead>\n",
       "  <tbody>\n",
       "    <tr>\n",
       "      <th>Never or Hardly Ever</th>\n",
       "      <td>19716</td>\n",
       "      <td>44116</td>\n",
       "      <td>18984</td>\n",
       "      <td>62461</td>\n",
       "      <td>14020</td>\n",
       "    </tr>\n",
       "    <tr>\n",
       "      <th>Some Lessons</th>\n",
       "      <td>64800</td>\n",
       "      <td>92573</td>\n",
       "      <td>60052</td>\n",
       "      <td>98976</td>\n",
       "      <td>51228</td>\n",
       "    </tr>\n",
       "    <tr>\n",
       "      <th>Most Lessons</th>\n",
       "      <td>116036</td>\n",
       "      <td>104082</td>\n",
       "      <td>104426</td>\n",
       "      <td>79561</td>\n",
       "      <td>107336</td>\n",
       "    </tr>\n",
       "    <tr>\n",
       "      <th>Every Lesson</th>\n",
       "      <td>114357</td>\n",
       "      <td>73557</td>\n",
       "      <td>130413</td>\n",
       "      <td>73203</td>\n",
       "      <td>141262</td>\n",
       "    </tr>\n",
       "  </tbody>\n",
       "</table>\n",
       "</div>"
      ],
      "text/plain": [
       "                      ST79Q01  ST79Q02  ST79Q06  ST79Q08  ST79Q15\n",
       "Never or Hardly Ever    19716    44116    18984    62461    14020\n",
       "Some Lessons            64800    92573    60052    98976    51228\n",
       "Most Lessons           116036   104082   104426    79561   107336\n",
       "Every Lesson           114357    73557   130413    73203   141262"
      ]
     },
     "execution_count": 260,
     "metadata": {},
     "output_type": "execute_result"
    }
   ],
   "source": [
    "#make sure counts are consistent\n",
    "pisa2012[group2].apply(pd.Series.value_counts).reindex(index = ['Never or Hardly Ever', 'Some Lessons', 'Most Lessons', 'Every Lesson'])"
   ]
  },
  {
   "cell_type": "code",
   "execution_count": 261,
   "metadata": {},
   "outputs": [
    {
     "data": {
      "text/html": [
       "<div>\n",
       "<style scoped>\n",
       "    .dataframe tbody tr th:only-of-type {\n",
       "        vertical-align: middle;\n",
       "    }\n",
       "\n",
       "    .dataframe tbody tr th {\n",
       "        vertical-align: top;\n",
       "    }\n",
       "\n",
       "    .dataframe thead th {\n",
       "        text-align: right;\n",
       "    }\n",
       "</style>\n",
       "<table border=\"1\" class=\"dataframe\">\n",
       "  <thead>\n",
       "    <tr style=\"text-align: right;\">\n",
       "      <th></th>\n",
       "      <th>ST79Q01</th>\n",
       "      <th>ST79Q02</th>\n",
       "      <th>ST79Q06</th>\n",
       "      <th>ST79Q08</th>\n",
       "      <th>ST79Q15</th>\n",
       "    </tr>\n",
       "  </thead>\n",
       "  <tbody>\n",
       "    <tr>\n",
       "      <th>1.0</th>\n",
       "      <td>19716</td>\n",
       "      <td>44116</td>\n",
       "      <td>18984</td>\n",
       "      <td>62461</td>\n",
       "      <td>14020</td>\n",
       "    </tr>\n",
       "    <tr>\n",
       "      <th>2.0</th>\n",
       "      <td>64800</td>\n",
       "      <td>92573</td>\n",
       "      <td>60052</td>\n",
       "      <td>98976</td>\n",
       "      <td>51228</td>\n",
       "    </tr>\n",
       "    <tr>\n",
       "      <th>3.0</th>\n",
       "      <td>116036</td>\n",
       "      <td>104082</td>\n",
       "      <td>104426</td>\n",
       "      <td>79561</td>\n",
       "      <td>107336</td>\n",
       "    </tr>\n",
       "    <tr>\n",
       "      <th>4.0</th>\n",
       "      <td>114357</td>\n",
       "      <td>73557</td>\n",
       "      <td>130413</td>\n",
       "      <td>73203</td>\n",
       "      <td>141262</td>\n",
       "    </tr>\n",
       "  </tbody>\n",
       "</table>\n",
       "</div>"
      ],
      "text/plain": [
       "     ST79Q01  ST79Q02  ST79Q06  ST79Q08  ST79Q15\n",
       "1.0    19716    44116    18984    62461    14020\n",
       "2.0    64800    92573    60052    98976    51228\n",
       "3.0   116036   104082   104426    79561   107336\n",
       "4.0   114357    73557   130413    73203   141262"
      ]
     },
     "execution_count": 261,
     "metadata": {},
     "output_type": "execute_result"
    }
   ],
   "source": [
    "pisa2012_clean[group2].apply(pd.Series.value_counts)"
   ]
  },
  {
   "cell_type": "markdown",
   "metadata": {},
   "source": [
    "### Code\n",
    "\n",
    "**Group 3 Score Assignment**"
   ]
  },
  {
   "cell_type": "code",
   "execution_count": 262,
   "metadata": {},
   "outputs": [],
   "source": [
    "#create score dictionary\n",
    "group3_score = {'Very much like me' : 5,\n",
    "                'Mostly like me' : 4,\n",
    "                'Somewhat like me' : 3,\n",
    "                'Not much like me' : 2,\n",
    "                'Not at all like me' : 1}"
   ]
  },
  {
   "cell_type": "code",
   "execution_count": 263,
   "metadata": {},
   "outputs": [],
   "source": [
    "#create reverse score dictionary\n",
    "group3_score_reverse = {'Very much like me' : 1,\n",
    "                'Mostly like me' : 2,\n",
    "                'Somewhat like me' : 3,\n",
    "                'Not much like me' : 4,\n",
    "                'Not at all like me' : 5}"
   ]
  },
  {
   "cell_type": "code",
   "execution_count": 264,
   "metadata": {},
   "outputs": [],
   "source": [
    "#assign reverse scoring\n",
    "pisa2012_clean[group3_reverse] = pisa2012_clean[group3_reverse].stack().map(group3_score_reverse).unstack()"
   ]
  },
  {
   "cell_type": "code",
   "execution_count": 265,
   "metadata": {},
   "outputs": [],
   "source": [
    "#assign normal scoring\n",
    "pisa2012_clean[group3_clean] = pisa2012_clean[group3_clean].stack().map(group3_score).unstack()"
   ]
  },
  {
   "cell_type": "markdown",
   "metadata": {},
   "source": [
    "### Test"
   ]
  },
  {
   "cell_type": "code",
   "execution_count": 266,
   "metadata": {},
   "outputs": [
    {
     "data": {
      "text/html": [
       "<div>\n",
       "<style scoped>\n",
       "    .dataframe tbody tr th:only-of-type {\n",
       "        vertical-align: middle;\n",
       "    }\n",
       "\n",
       "    .dataframe tbody tr th {\n",
       "        vertical-align: top;\n",
       "    }\n",
       "\n",
       "    .dataframe thead th {\n",
       "        text-align: right;\n",
       "    }\n",
       "</style>\n",
       "<table border=\"1\" class=\"dataframe\">\n",
       "  <thead>\n",
       "    <tr style=\"text-align: right;\">\n",
       "      <th></th>\n",
       "      <th>ST93Q01</th>\n",
       "      <th>ST93Q03</th>\n",
       "    </tr>\n",
       "  </thead>\n",
       "  <tbody>\n",
       "    <tr>\n",
       "      <th>Very much like me</th>\n",
       "      <td>22791</td>\n",
       "      <td>34481</td>\n",
       "    </tr>\n",
       "    <tr>\n",
       "      <th>Mostly like me</th>\n",
       "      <td>34137</td>\n",
       "      <td>59230</td>\n",
       "    </tr>\n",
       "    <tr>\n",
       "      <th>Somewhat like me</th>\n",
       "      <td>78831</td>\n",
       "      <td>96460</td>\n",
       "    </tr>\n",
       "    <tr>\n",
       "      <th>Not much like me</th>\n",
       "      <td>109281</td>\n",
       "      <td>79384</td>\n",
       "    </tr>\n",
       "    <tr>\n",
       "      <th>Not at all like me</th>\n",
       "      <td>67816</td>\n",
       "      <td>42585</td>\n",
       "    </tr>\n",
       "  </tbody>\n",
       "</table>\n",
       "</div>"
      ],
      "text/plain": [
       "                    ST93Q01  ST93Q03\n",
       "Very much like me     22791    34481\n",
       "Mostly like me        34137    59230\n",
       "Somewhat like me      78831    96460\n",
       "Not much like me     109281    79384\n",
       "Not at all like me    67816    42585"
      ]
     },
     "execution_count": 266,
     "metadata": {},
     "output_type": "execute_result"
    }
   ],
   "source": [
    "#make sure counts are consistent\n",
    "\n",
    "#reverse question scores\n",
    "pisa2012[group3_reverse].apply(pd.Series.value_counts).reindex(index = ['Very much like me', 'Mostly like me', 'Somewhat like me', 'Not much like me', 'Not at all like me'])"
   ]
  },
  {
   "cell_type": "code",
   "execution_count": 267,
   "metadata": {},
   "outputs": [
    {
     "data": {
      "text/html": [
       "<div>\n",
       "<style scoped>\n",
       "    .dataframe tbody tr th:only-of-type {\n",
       "        vertical-align: middle;\n",
       "    }\n",
       "\n",
       "    .dataframe tbody tr th {\n",
       "        vertical-align: top;\n",
       "    }\n",
       "\n",
       "    .dataframe thead th {\n",
       "        text-align: right;\n",
       "    }\n",
       "</style>\n",
       "<table border=\"1\" class=\"dataframe\">\n",
       "  <thead>\n",
       "    <tr style=\"text-align: right;\">\n",
       "      <th></th>\n",
       "      <th>ST93Q01</th>\n",
       "      <th>ST93Q03</th>\n",
       "    </tr>\n",
       "  </thead>\n",
       "  <tbody>\n",
       "    <tr>\n",
       "      <th>1.0</th>\n",
       "      <td>22791</td>\n",
       "      <td>34481</td>\n",
       "    </tr>\n",
       "    <tr>\n",
       "      <th>2.0</th>\n",
       "      <td>34137</td>\n",
       "      <td>59230</td>\n",
       "    </tr>\n",
       "    <tr>\n",
       "      <th>3.0</th>\n",
       "      <td>78831</td>\n",
       "      <td>96460</td>\n",
       "    </tr>\n",
       "    <tr>\n",
       "      <th>4.0</th>\n",
       "      <td>109281</td>\n",
       "      <td>79384</td>\n",
       "    </tr>\n",
       "    <tr>\n",
       "      <th>5.0</th>\n",
       "      <td>67816</td>\n",
       "      <td>42585</td>\n",
       "    </tr>\n",
       "  </tbody>\n",
       "</table>\n",
       "</div>"
      ],
      "text/plain": [
       "     ST93Q01  ST93Q03\n",
       "1.0    22791    34481\n",
       "2.0    34137    59230\n",
       "3.0    78831    96460\n",
       "4.0   109281    79384\n",
       "5.0    67816    42585"
      ]
     },
     "execution_count": 267,
     "metadata": {},
     "output_type": "execute_result"
    }
   ],
   "source": [
    "pisa2012_clean[group3_reverse].apply(pd.Series.value_counts)"
   ]
  },
  {
   "cell_type": "code",
   "execution_count": 268,
   "metadata": {},
   "outputs": [
    {
     "data": {
      "text/html": [
       "<div>\n",
       "<style scoped>\n",
       "    .dataframe tbody tr th:only-of-type {\n",
       "        vertical-align: middle;\n",
       "    }\n",
       "\n",
       "    .dataframe tbody tr th {\n",
       "        vertical-align: top;\n",
       "    }\n",
       "\n",
       "    .dataframe thead th {\n",
       "        text-align: right;\n",
       "    }\n",
       "</style>\n",
       "<table border=\"1\" class=\"dataframe\">\n",
       "  <thead>\n",
       "    <tr style=\"text-align: right;\">\n",
       "      <th></th>\n",
       "      <th>ST93Q04</th>\n",
       "      <th>ST93Q06</th>\n",
       "      <th>ST93Q07</th>\n",
       "    </tr>\n",
       "  </thead>\n",
       "  <tbody>\n",
       "    <tr>\n",
       "      <th>Not at all like me</th>\n",
       "      <td>12077</td>\n",
       "      <td>16112</td>\n",
       "      <td>20853</td>\n",
       "    </tr>\n",
       "    <tr>\n",
       "      <th>Not much like me</th>\n",
       "      <td>39506</td>\n",
       "      <td>51802</td>\n",
       "      <td>59466</td>\n",
       "    </tr>\n",
       "    <tr>\n",
       "      <th>Somewhat like me</th>\n",
       "      <td>90208</td>\n",
       "      <td>88682</td>\n",
       "      <td>96188</td>\n",
       "    </tr>\n",
       "    <tr>\n",
       "      <th>Mostly like me</th>\n",
       "      <td>104572</td>\n",
       "      <td>88555</td>\n",
       "      <td>78451</td>\n",
       "    </tr>\n",
       "    <tr>\n",
       "      <th>Very much like me</th>\n",
       "      <td>64948</td>\n",
       "      <td>67119</td>\n",
       "      <td>57301</td>\n",
       "    </tr>\n",
       "  </tbody>\n",
       "</table>\n",
       "</div>"
      ],
      "text/plain": [
       "                    ST93Q04  ST93Q06  ST93Q07\n",
       "Not at all like me    12077    16112    20853\n",
       "Not much like me      39506    51802    59466\n",
       "Somewhat like me      90208    88682    96188\n",
       "Mostly like me       104572    88555    78451\n",
       "Very much like me     64948    67119    57301"
      ]
     },
     "execution_count": 268,
     "metadata": {},
     "output_type": "execute_result"
    }
   ],
   "source": [
    "#normal group 3 questions\n",
    "pisa2012[group3_clean].apply(pd.Series.value_counts).reindex(index = ['Not at all like me', 'Not much like me', 'Somewhat like me', 'Mostly like me', 'Very much like me'])"
   ]
  },
  {
   "cell_type": "code",
   "execution_count": 269,
   "metadata": {},
   "outputs": [
    {
     "data": {
      "text/html": [
       "<div>\n",
       "<style scoped>\n",
       "    .dataframe tbody tr th:only-of-type {\n",
       "        vertical-align: middle;\n",
       "    }\n",
       "\n",
       "    .dataframe tbody tr th {\n",
       "        vertical-align: top;\n",
       "    }\n",
       "\n",
       "    .dataframe thead th {\n",
       "        text-align: right;\n",
       "    }\n",
       "</style>\n",
       "<table border=\"1\" class=\"dataframe\">\n",
       "  <thead>\n",
       "    <tr style=\"text-align: right;\">\n",
       "      <th></th>\n",
       "      <th>ST93Q04</th>\n",
       "      <th>ST93Q06</th>\n",
       "      <th>ST93Q07</th>\n",
       "    </tr>\n",
       "  </thead>\n",
       "  <tbody>\n",
       "    <tr>\n",
       "      <th>1.0</th>\n",
       "      <td>12077</td>\n",
       "      <td>16112</td>\n",
       "      <td>20853</td>\n",
       "    </tr>\n",
       "    <tr>\n",
       "      <th>2.0</th>\n",
       "      <td>39506</td>\n",
       "      <td>51802</td>\n",
       "      <td>59466</td>\n",
       "    </tr>\n",
       "    <tr>\n",
       "      <th>3.0</th>\n",
       "      <td>90208</td>\n",
       "      <td>88682</td>\n",
       "      <td>96188</td>\n",
       "    </tr>\n",
       "    <tr>\n",
       "      <th>4.0</th>\n",
       "      <td>104572</td>\n",
       "      <td>88555</td>\n",
       "      <td>78451</td>\n",
       "    </tr>\n",
       "    <tr>\n",
       "      <th>5.0</th>\n",
       "      <td>64948</td>\n",
       "      <td>67119</td>\n",
       "      <td>57301</td>\n",
       "    </tr>\n",
       "  </tbody>\n",
       "</table>\n",
       "</div>"
      ],
      "text/plain": [
       "     ST93Q04  ST93Q06  ST93Q07\n",
       "1.0    12077    16112    20853\n",
       "2.0    39506    51802    59466\n",
       "3.0    90208    88682    96188\n",
       "4.0   104572    88555    78451\n",
       "5.0    64948    67119    57301"
      ]
     },
     "execution_count": 269,
     "metadata": {},
     "output_type": "execute_result"
    }
   ],
   "source": [
    "pisa2012_clean[group3_clean].apply(pd.Series.value_counts)"
   ]
  },
  {
   "cell_type": "markdown",
   "metadata": {},
   "source": [
    "And finally . . . for group 4! \n",
    "\n",
    "### Code\n",
    "**Group 4 Score Assignment**"
   ]
  },
  {
   "cell_type": "code",
   "execution_count": 34,
   "metadata": {},
   "outputs": [],
   "source": [
    "#create score dictionary\n",
    "group4_score = {'Five or more times' : 5, \n",
    "                'Three or four times' : 3,\n",
    "                'One or two times' : 1}"
   ]
  },
  {
   "cell_type": "code",
   "execution_count": 40,
   "metadata": {},
   "outputs": [
    {
     "data": {
      "text/plain": [
       "array(['None', 'One or two times', 'Three or four times', nan,\n",
       "       'Five or more times'], dtype=object)"
      ]
     },
     "execution_count": 40,
     "metadata": {},
     "output_type": "execute_result"
    }
   ],
   "source": [
    "pd.unique(pisa2012_clean[group4].values.ravel())"
   ]
  },
  {
   "cell_type": "code",
   "execution_count": 36,
   "metadata": {},
   "outputs": [],
   "source": [
    "#strip all white space from group 4 values\n",
    "pisa2012_clean[group4] = pisa2012_clean[group4].apply(lambda x: x.str.strip())"
   ]
  },
  {
   "cell_type": "code",
   "execution_count": 42,
   "metadata": {},
   "outputs": [],
   "source": [
    "#assign scoring\n",
    "pisa2012_clean[group4] = pisa2012_clean[group4].stack().map(group4_score).unstack()"
   ]
  },
  {
   "cell_type": "markdown",
   "metadata": {},
   "source": [
    "### Test"
   ]
  },
  {
   "cell_type": "code",
   "execution_count": 46,
   "metadata": {},
   "outputs": [
    {
     "data": {
      "text/html": [
       "<div>\n",
       "<style scoped>\n",
       "    .dataframe tbody tr th:only-of-type {\n",
       "        vertical-align: middle;\n",
       "    }\n",
       "\n",
       "    .dataframe tbody tr th {\n",
       "        vertical-align: top;\n",
       "    }\n",
       "\n",
       "    .dataframe thead th {\n",
       "        text-align: right;\n",
       "    }\n",
       "</style>\n",
       "<table border=\"1\" class=\"dataframe\">\n",
       "  <thead>\n",
       "    <tr style=\"text-align: right;\">\n",
       "      <th></th>\n",
       "      <th>ST08Q01</th>\n",
       "      <th>ST09Q01</th>\n",
       "    </tr>\n",
       "  </thead>\n",
       "  <tbody>\n",
       "    <tr>\n",
       "      <th>One or two times</th>\n",
       "      <td>124380</td>\n",
       "      <td>75969</td>\n",
       "    </tr>\n",
       "    <tr>\n",
       "      <th>Three or four times</th>\n",
       "      <td>29817</td>\n",
       "      <td>10882</td>\n",
       "    </tr>\n",
       "    <tr>\n",
       "      <th>Five or more times</th>\n",
       "      <td>18881</td>\n",
       "      <td>6282</td>\n",
       "    </tr>\n",
       "  </tbody>\n",
       "</table>\n",
       "</div>"
      ],
      "text/plain": [
       "                       ST08Q01  ST09Q01\n",
       "One or two times        124380    75969\n",
       "Three or four times      29817    10882\n",
       "Five or more times       18881     6282"
      ]
     },
     "execution_count": 46,
     "metadata": {},
     "output_type": "execute_result"
    }
   ],
   "source": [
    "pisa2012[group4].apply(pd.Series.value_counts)[1:]"
   ]
  },
  {
   "cell_type": "code",
   "execution_count": 44,
   "metadata": {},
   "outputs": [
    {
     "data": {
      "text/html": [
       "<div>\n",
       "<style scoped>\n",
       "    .dataframe tbody tr th:only-of-type {\n",
       "        vertical-align: middle;\n",
       "    }\n",
       "\n",
       "    .dataframe tbody tr th {\n",
       "        vertical-align: top;\n",
       "    }\n",
       "\n",
       "    .dataframe thead th {\n",
       "        text-align: right;\n",
       "    }\n",
       "</style>\n",
       "<table border=\"1\" class=\"dataframe\">\n",
       "  <thead>\n",
       "    <tr style=\"text-align: right;\">\n",
       "      <th></th>\n",
       "      <th>ST08Q01</th>\n",
       "      <th>ST09Q01</th>\n",
       "    </tr>\n",
       "  </thead>\n",
       "  <tbody>\n",
       "    <tr>\n",
       "      <th>1.0</th>\n",
       "      <td>124380</td>\n",
       "      <td>75969</td>\n",
       "    </tr>\n",
       "    <tr>\n",
       "      <th>3.0</th>\n",
       "      <td>29817</td>\n",
       "      <td>10882</td>\n",
       "    </tr>\n",
       "    <tr>\n",
       "      <th>5.0</th>\n",
       "      <td>18881</td>\n",
       "      <td>6282</td>\n",
       "    </tr>\n",
       "  </tbody>\n",
       "</table>\n",
       "</div>"
      ],
      "text/plain": [
       "     ST08Q01  ST09Q01\n",
       "1.0   124380    75969\n",
       "3.0    29817    10882\n",
       "5.0    18881     6282"
      ]
     },
     "execution_count": 44,
     "metadata": {},
     "output_type": "execute_result"
    }
   ],
   "source": [
    "pisa2012_clean[group4].apply(pd.Series.value_counts)"
   ]
  }
 ],
 "metadata": {
  "kernelspec": {
   "display_name": "Python 3",
   "language": "python",
   "name": "python3"
  },
  "language_info": {
   "codemirror_mode": {
    "name": "ipython",
    "version": 3
   },
   "file_extension": ".py",
   "mimetype": "text/x-python",
   "name": "python",
   "nbconvert_exporter": "python",
   "pygments_lexer": "ipython3",
   "version": "3.7.3"
  }
 },
 "nbformat": 4,
 "nbformat_minor": 2
}
