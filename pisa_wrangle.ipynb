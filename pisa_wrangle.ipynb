{
 "cells": [
  {
   "cell_type": "markdown",
   "metadata": {},
   "source": [
    "# GATHER"
   ]
  },
  {
   "cell_type": "code",
   "execution_count": 2,
   "metadata": {},
   "outputs": [],
   "source": [
    "import numpy as np\n",
    "import pandas as pd\n",
    "import zipfile\n",
    "import dill"
   ]
  },
  {
   "cell_type": "code",
   "execution_count": null,
   "metadata": {},
   "outputs": [],
   "source": [
    "#uncomment to save or load environment\n",
    "\n",
    "dill.dump_session('notebook_session.db') #save\n",
    "#dill.load_session('notebook_session.db') #load"
   ]
  },
  {
   "cell_type": "code",
   "execution_count": 307,
   "metadata": {},
   "outputs": [],
   "source": [
    "zf = zipfile.ZipFile('./data/pisa2012.zip')\n",
    "pisa2012 = pd.read_csv(zf.open('pisa2012.csv'), encoding = 'latin-1', sep = ',',\n",
    "                   error_bad_lines = False, index_col = False, dtype = 'unicode')"
   ]
  },
  {
   "cell_type": "markdown",
   "metadata": {},
   "source": [
    "> For our data wrangling process, I aim to focus on how both environmental factors and demographic factors affect a student's academic performance, future optimism and self-esteem. \n",
    "\n",
    "- Environmental factors will consist of ***teacher helpfulness***, ***sense of belonging***, and ***acculturation.***\n",
    "\n",
    "- Demographic factors will consist of ***gender*** and ***parent background***.\n",
    "\n",
    "- Academic performance will consist of math, reading, and science ***scores*** and ***work ethic***.\n",
    "- ***Future optimism*** and ***self-esteem*** will both be standalone.\n",
    "\n",
    "I'm essentially exploring the idea of, \"If a student isn't getting any help and feels like an outsider, then that'll lower their commitment for school and hurt their self-esteem, in turn lowering their academic performance.\" On the flip side, a student who ***is*** getting help and feels comfortable in the school environment would have greater optimism in committing to school, thus raising their academic performance.\n",
    "\n",
    "At the same time, I want to see how parent background, country, and gender can drive these variables against/in favor of the student.\n",
    "\n",
    "After looking through the dataset, I have isolated these variables.\n",
    "\n",
    "### Student Information\n",
    "- **Gender + Parent Background**\n",
    "    - **ST04Q01** - Gender\n",
    "    - **PV1MATH** -\tPlausible value 1 in mathematics\n",
    "    - **PV1READ** - Plausible value 1 in reading\n",
    "    - **PV1SCIE** -\tPlausible value 1 in science\n",
    "    - **OCOD1** ISCO-08 Occupation code - Mother\n",
    "    - **OCOD2** ISCO-08 Occupation code - Father\n",
    "    - **ST22Q01** -\tAcculturation - Mother Immigrant (Filter)\n",
    "    \n",
    "- **STIDSTD** - student ID\n",
    "- **CNT** - 3-character country code\n",
    "\n",
    "\n",
    "### Teacher Helpfulness/Involvement\n",
    "    \n",
    "- **Teacher Support**\n",
    "    - **ST83Q01** -\tTeacher Support - Lets Us Know We Have to Work Hard\n",
    "    - **ST83Q02** -\tTeacher Support - Provides Extra Help When Needed\n",
    "    - **ST83Q03** -\tTeacher Support - Helps Students with Learning\n",
    "    - **ST83Q04** -\tTeacher Support - Gives Opportunity to Express Opinions\n",
    "    \n",
    "- **Student-Teacher Relation**\n",
    "    - **ST86Q01** -\tStudent-Teacher Relation - Get Along with Teachers\n",
    "    - **ST86Q02** -\tStudent-Teacher Relation - Teachers Are Interested\n",
    "    - **ST86Q03** -\tStudent-Teacher Relation - Teachers Listen to Students\n",
    "    - **ST86Q04** -\tStudent-Teacher Relation - Teachers Help Students\n",
    "    - **ST86Q05** -\tStudent-Teacher Relation - Teachers Treat Students Fair\n",
    "    \n",
    "- **Teacher-Directed Instruction**\n",
    "    - **ST79Q01** -\tTeacher-Directed Instruction - Sets Clear Goals\n",
    "    - **ST79Q02** -\tTeacher-Directed Instruction - Encourages Thinking and Reasoning\n",
    "    - **ST79Q06** -\tTeacher-Directed Instruction - Checks Understanding\n",
    "    - **ST79Q08** -\tTeacher-Directed Instruction - Summarizes Previous Lessons\n",
    "    - **ST79Q15** -\tTeacher-Directed Instruction - Informs about Learning Goals\n",
    "    \n",
    "### Sense of Belonging\n",
    "\n",
    "- **Sense of Belonging**\n",
    "    - **ST87Q01** - Sense of Belonging - Feel Like Outsider\n",
    "    - **ST87Q02** -\tSense of Belonging - Make Friends Easily\n",
    "    - **ST87Q03** -\tSense of Belonging - Belong at School\n",
    "    - **ST87Q04** -\tSense of Belonging - Feel Awkward at School\n",
    "    - **ST87Q05** -\tSense of Belonging - Liked by Other Students\n",
    "    - **ST87Q06** -\tSense of Belonging - Feel Lonely at School\n",
    "    - **ST87Q07** -\tSense of Belonging - Feel Happy at School\n",
    "    - **ST87Q08** -\tSense of Belonging - Things Are Ideal at School\n",
    "    - **ST87Q09** -\tSense of Belonging - Satisfied at School\n",
    "    - **BELONG**  - Sense of Belonging to School\n",
    "    \n",
    "### Acculturation\n",
    "\n",
    "> The reason I picked only the host culture acculturations is because I want to see how well a student is ***fitting in*** to the culture of the school they're currently attending.\n",
    "\n",
    "- **Acculturation**\n",
    "    - **ST23Q01** -\tAcculturation - Enjoy Host Culture Friends\n",
    "    - **ST23Q03** -\tAcculturation - Enjoy Host Culture Celebrations\n",
    "    - **ST23Q05** -\tAcculturation - Spend Time with Host Culture Friends\n",
    "    - **ST23Q07** -\tAcculturation - Participate in Host Culture Celebrations\n",
    "    - **ST24Q01** -\tAcculturation - Perceived Host-Heritage Cultural Differences - Values\n",
    "    - **ST24Q02** -\tAcculturation - Perceived Host-Heritage Cultural Differences - Mother Treatment\n",
    "    - **ST24Q03** -\tAcculturation - Perceived Host-Heritage Cultural Differences - Teacher Treatment\n",
    "\n",
    "\n",
    "> I included math work ethic into overall work ethic. \n",
    "### Work Ethic\n",
    "\n",
    "- **Math Work Ethic**\n",
    "    - **ST46Q01** -\tMath Work Ethic - Homework Completed in Time\n",
    "    - **ST46Q02** -\tMath Work Ethic - Work Hard on Homework\n",
    "    - **ST46Q03** -\tMath Work Ethic - Prepared for Exams\n",
    "    - **ST46Q04** -\tMath Work Ethic - Study Hard for Quizzes\n",
    "    - **ST46Q05** -\tMath Work Ethic - Study Until I Understand Everything\n",
    "    - **ST46Q06** -\tMath Work Ethic - Pay Attention in Classes\n",
    "    - **ST46Q07** -\tMath Work Ethic - Listen in Classes\n",
    "    - **ST46Q08** -\tMath Work Ethic - Avoid Distractions When Studying\n",
    "    - **ST46Q09** -\tMath Work Ethic - Keep Work Organized\n",
    "\n",
    "- **Perseverance**\n",
    "    - **ST93Q01** -\tPerseverance - Give up easily\n",
    "    - **ST93Q03** -\tPerseverance - Put off difficult problems\n",
    "    - **ST93Q04** -\tPerseverance - Remain interested\n",
    "    - **ST93Q06** -\tPerseverance - Continue to perfection\n",
    "    - **ST93Q07** -\tPerseverance - Exceed expectations\n",
    "    \n",
    "- **Truancy**\n",
    "    - **ST08Q01** - Truancy - Late for School\n",
    "    - **ST09Q01** - Truancy - Skip whole school day\n",
    "    - **ST115Q01** - Truancy - Skip classes within school day\n",
    "    \n",
    "- **Out-of-School Study Time**\n",
    "    - **ST57Q01** -\tOut-of-School Study Time - Homework\n",
    "    - **ST57Q02** -\tOut-of-School Study Time - Guided Homework\n",
    "    - **ST57Q03** -\tOut-of-School Study Time - Personal Tutor\n",
    "    - **ST57Q04** -\tOut-of-School Study Time - Commercial Company\n",
    "    - **ST57Q05** -\tOut-of-School Study Time - With Parent\n",
    "    - **ST57Q06** -\tOut-of-School Study Time - Computer\n",
    "\n",
    "\n",
    "### Future Optimism\n",
    "\n",
    "- **Attitudes toward School**\n",
    "    - **ST88Q01** -\tAttitude towards School - Does Little to Prepare Me for Life\n",
    "    - **ST88Q02** -\tAttitude towards School - Waste of Time\n",
    "    - **ST88Q03** -\tAttitude towards School - Gave Me Confidence\n",
    "    - **ST88Q04** -\tAttitude towards School- Useful for Job\n",
    "    - **ST89Q02** -\tAttitude toward School - Helps to Get a Job\n",
    "    - **ST89Q03** -\tAttitude toward School - Prepare for College\n",
    "    - **ST89Q04** -\tAttitude toward School - Enjoy Good Grades\n",
    "    - **ST89Q05** -\tAttitude toward School - Trying Hard is Important\n",
    "    \n",
    "- **Instrumental Motivation**\n",
    "    - **ST29Q07** -\tInstrumental Motivation - Important for Future Study\n",
    "    - **ST29Q08** -\tInstrumental Motivation - Helps to Get a Job\n",
    "\n",
    "### Self-Esteem\n",
    "- **Perceived Control**\n",
    "    - **ST91Q01** -\tPerceived Control - Can Succeed with Enough Effort\n",
    "    - **ST91Q02** -\tPerceived Control - My Choice Whether I Will Be Good\n",
    "    - **ST91Q03** -\tPerceived Control - Problems Prevent from Putting Effort into School\n",
    "    - **ST91Q04** -\tPerceived Control - Different Teachers Would Make Me Try Harder\n",
    "    - **ST91Q05** -\tPerceived Control - Could Perform Well if I Wanted\n",
    "    - **ST91Q06** -\tPerceived Control - Perform Poor Regardless    \n",
    "    \n",
    "- **Math Self-Concept** \n",
    "    - **ST42Q02** -\tMath Self-Concept - Not Good at Maths\n",
    "    - **ST42Q04** -\tMath Self-Concept- Get Good Grades\n",
    "    - **ST42Q06** -\tMath Self-Concept - Learn Quickly\n",
    "    - **ST42Q07** -\tMath Self-Concept - One of Best Subjects\n",
    "    - **ST42Q09** -\tMath Self-Concept - Understand Difficult Work\n",
    "    \n",
    "After isolating the above variables, I intend to have these 14 columns in the final clean CSV:\n",
    "\n",
    "- student ID\n",
    "- country\n",
    "- gender\n",
    "- overall math score\n",
    "- overall reading score\n",
    "- overall science score\n",
    "- teacher helpfulness/involvement\n",
    "- sense of belonging\n",
    "- acculturation\n",
    "- work ethic\n",
    "- future optimism\n",
    "- self-esteem\n",
    "- mother work background\n",
    "- father work background\n",
    "\n",
    "All variables from `teacher helpfulness` to `self-esteem` will be quantified with an average score, and normalized across all columns."
   ]
  },
  {
   "cell_type": "code",
   "execution_count": 359,
   "metadata": {},
   "outputs": [],
   "source": [
    "#create categories for each variable\n",
    "student_info = ['STIDSTD', 'CNT', 'ST04Q01', 'PV1MATH', 'PV1READ', 'PV1SCIE', 'OCOD1', 'OCOD2', 'ST22Q01']"
   ]
  },
  {
   "cell_type": "code",
   "execution_count": 360,
   "metadata": {},
   "outputs": [
    {
     "data": {
      "text/plain": [
       "18"
      ]
     },
     "execution_count": 360,
     "metadata": {},
     "output_type": "execute_result"
    }
   ],
   "source": [
    "#teacher helpfulness/involvement\n",
    "teacher_support = ['ST83Q01', 'ST83Q02', 'ST83Q03', 'ST83Q04', 'ST83Q01', 'ST83Q02', 'ST83Q03', 'ST83Q04'] \n",
    "teacher_relation = ['ST86Q01', 'ST86Q02', 'ST86Q03', 'ST86Q04', 'ST86Q05']\n",
    "teacher_direct = ['ST79Q01', 'ST79Q02', 'ST79Q06', 'ST79Q08', 'ST79Q15']\n",
    "\n",
    "teacher_helpfulness = np.concatenate([teacher_support, teacher_relation, teacher_direct]).ravel()\n",
    "\n",
    "#num of columns\n",
    "len(pisa2012[teacher_helpfulness].columns)"
   ]
  },
  {
   "cell_type": "code",
   "execution_count": 362,
   "metadata": {},
   "outputs": [
    {
     "data": {
      "text/plain": [
       "9"
      ]
     },
     "execution_count": 362,
     "metadata": {},
     "output_type": "execute_result"
    }
   ],
   "source": [
    "#sense of belonging\n",
    "belonging = ['ST87Q01', 'ST87Q02', 'ST87Q03', 'ST87Q04', 'ST87Q05', 'ST87Q06', 'ST87Q07', 'ST87Q08', 'ST87Q09'] \n",
    "\n",
    "len(pisa2012[belonging].columns)"
   ]
  },
  {
   "cell_type": "code",
   "execution_count": 357,
   "metadata": {},
   "outputs": [
    {
     "data": {
      "text/plain": [
       "7"
      ]
     },
     "execution_count": 357,
     "metadata": {},
     "output_type": "execute_result"
    }
   ],
   "source": [
    "#acculturation\n",
    "acculturation = ['ST23Q01', 'ST23Q03', 'ST23Q05', 'ST23Q07', 'ST24Q01', 'ST24Q02', 'ST24Q03']\n",
    "\n",
    "len(pisa2012[acculturation].columns)"
   ]
  },
  {
   "cell_type": "code",
   "execution_count": 343,
   "metadata": {},
   "outputs": [
    {
     "data": {
      "text/plain": [
       "17"
      ]
     },
     "execution_count": 343,
     "metadata": {},
     "output_type": "execute_result"
    }
   ],
   "source": [
    "#work ethic\n",
    "math_ethic = ['ST46Q01', 'ST46Q02', 'ST46Q03', 'ST46Q04', 'ST46Q05', 'ST46Q06', 'ST46Q07', 'ST46Q08', 'ST46Q09']\n",
    "perseverance = ['ST93Q01', 'ST93Q03', 'ST93Q04', 'ST93Q06', 'ST93Q07']\n",
    "truancy = ['ST08Q01', 'ST09Q01', 'ST115Q01']\n",
    "\n",
    "work_ethic = np.concatenate([math_ethic, perseverance, truancy]).ravel()\n",
    "pisa2012[work_ethic].columns.shape[0]"
   ]
  },
  {
   "cell_type": "code",
   "execution_count": 344,
   "metadata": {},
   "outputs": [
    {
     "data": {
      "text/plain": [
       "10"
      ]
     },
     "execution_count": 344,
     "metadata": {},
     "output_type": "execute_result"
    }
   ],
   "source": [
    "#future optimism\n",
    "attitude_school =['ST88Q01', 'ST88Q02', 'ST88Q03', 'ST88Q04', 'ST89Q02', 'ST89Q03', 'ST89Q04', 'ST89Q05']\n",
    "motivation = ['ST29Q07', 'ST29Q08']\n",
    "\n",
    "future_optimism = np.concatenate([attitude_school, motivation]).ravel()\n",
    "pisa2012[future_optimism].columns.shape[0]"
   ]
  },
  {
   "cell_type": "code",
   "execution_count": 361,
   "metadata": {},
   "outputs": [
    {
     "data": {
      "text/plain": [
       "11"
      ]
     },
     "execution_count": 361,
     "metadata": {},
     "output_type": "execute_result"
    }
   ],
   "source": [
    "#self esteem\n",
    "perceived_control = ['ST91Q01', 'ST91Q02', 'ST91Q03', 'ST91Q04', 'ST91Q05', 'ST91Q06']\n",
    "math_self_concept = ['ST42Q02', 'ST42Q04', 'ST42Q06', 'ST42Q07', 'ST42Q09']\n",
    "\n",
    "self_esteem = np.concatenate([perceived_control, math_self_concept]).ravel()\n",
    "pisa2012[self_esteem].columns.shape[0]"
   ]
  },
  {
   "cell_type": "markdown",
   "metadata": {},
   "source": [
    "### Observations\n",
    "1. `teacher_helpfulness` has a total of 18 columns.\n",
    "2. `belonging` has a total of 9 columns.\n",
    "3. `acculturation` has a total of 7 columns.\n",
    "4. `work ethic` has a total of 17 columns.\n",
    "5. `future_optimism` has a total of 10 columns.\n",
    "6. `self_esteem` has a total of 11 columns.\n",
    "7. `student info` has a total of 9 columns."
   ]
  },
  {
   "cell_type": "markdown",
   "metadata": {},
   "source": [
    "# ASSESS"
   ]
  },
  {
   "cell_type": "markdown",
   "metadata": {},
   "source": [
    "### Overall"
   ]
  },
  {
   "cell_type": "code",
   "execution_count": 363,
   "metadata": {},
   "outputs": [
    {
     "data": {
      "text/plain": [
       "(485490, 636)"
      ]
     },
     "execution_count": 363,
     "metadata": {},
     "output_type": "execute_result"
    }
   ],
   "source": [
    "pisa2012.shape"
   ]
  },
  {
   "cell_type": "code",
   "execution_count": 347,
   "metadata": {},
   "outputs": [
    {
     "data": {
      "text/plain": [
       "0"
      ]
     },
     "execution_count": 347,
     "metadata": {},
     "output_type": "execute_result"
    }
   ],
   "source": [
    "#number of rows with duplicate data\n",
    "pisa2012.duplicated().sum()"
   ]
  },
  {
   "cell_type": "code",
   "execution_count": 318,
   "metadata": {},
   "outputs": [
    {
     "data": {
      "text/plain": [
       "472209"
      ]
     },
     "execution_count": 318,
     "metadata": {},
     "output_type": "execute_result"
    }
   ],
   "source": [
    "#count how many rows have missing data\n",
    "pisa2012.isna().sum().max()"
   ]
  },
  {
   "cell_type": "code",
   "execution_count": 319,
   "metadata": {},
   "outputs": [
    {
     "name": "stdout",
     "output_type": "stream",
     "text": [
      "This PISA dataset has 13281 rows with no missing data.\n"
     ]
    }
   ],
   "source": [
    "print('This PISA dataset has {} rows with no missing data.'.format(pisa2012.shape[0] - pisa2012.isna().sum().max()))"
   ]
  },
  {
   "cell_type": "markdown",
   "metadata": {},
   "source": [
    "> Comb through each variable category one at a time.\n",
    "\n",
    "### Student Info"
   ]
  },
  {
   "cell_type": "code",
   "execution_count": 364,
   "metadata": {},
   "outputs": [],
   "source": [
    "df_student_info = pisa2012[student_info]"
   ]
  },
  {
   "cell_type": "code",
   "execution_count": 366,
   "metadata": {},
   "outputs": [
    {
     "data": {
      "text/html": [
       "<div>\n",
       "<style scoped>\n",
       "    .dataframe tbody tr th:only-of-type {\n",
       "        vertical-align: middle;\n",
       "    }\n",
       "\n",
       "    .dataframe tbody tr th {\n",
       "        vertical-align: top;\n",
       "    }\n",
       "\n",
       "    .dataframe thead th {\n",
       "        text-align: right;\n",
       "    }\n",
       "</style>\n",
       "<table border=\"1\" class=\"dataframe\">\n",
       "  <thead>\n",
       "    <tr style=\"text-align: right;\">\n",
       "      <th></th>\n",
       "      <th>STIDSTD</th>\n",
       "      <th>CNT</th>\n",
       "      <th>ST04Q01</th>\n",
       "      <th>PV1MATH</th>\n",
       "      <th>PV1READ</th>\n",
       "      <th>PV1SCIE</th>\n",
       "      <th>OCOD1</th>\n",
       "      <th>OCOD2</th>\n",
       "      <th>ST22Q01</th>\n",
       "    </tr>\n",
       "  </thead>\n",
       "  <tbody>\n",
       "    <tr>\n",
       "      <th>0</th>\n",
       "      <td>00001</td>\n",
       "      <td>Albania</td>\n",
       "      <td>Female</td>\n",
       "      <td>406.8469</td>\n",
       "      <td>249.5762</td>\n",
       "      <td>341.7009</td>\n",
       "      <td>Building architects</td>\n",
       "      <td>Primary school teachers</td>\n",
       "      <td>NaN</td>\n",
       "    </tr>\n",
       "    <tr>\n",
       "      <th>1</th>\n",
       "      <td>00002</td>\n",
       "      <td>Albania</td>\n",
       "      <td>Female</td>\n",
       "      <td>486.1427</td>\n",
       "      <td>406.2936</td>\n",
       "      <td>548.9929</td>\n",
       "      <td>Tailors, dressmakers, furriers and hatters</td>\n",
       "      <td>Building construction labourers</td>\n",
       "      <td>NaN</td>\n",
       "    </tr>\n",
       "    <tr>\n",
       "      <th>2</th>\n",
       "      <td>00003</td>\n",
       "      <td>Albania</td>\n",
       "      <td>Female</td>\n",
       "      <td>533.2684</td>\n",
       "      <td>401.21</td>\n",
       "      <td>499.6643</td>\n",
       "      <td>Housewife</td>\n",
       "      <td>Bricklayers and related workers</td>\n",
       "      <td>NaN</td>\n",
       "    </tr>\n",
       "    <tr>\n",
       "      <th>3</th>\n",
       "      <td>00004</td>\n",
       "      <td>Albania</td>\n",
       "      <td>Female</td>\n",
       "      <td>412.2215</td>\n",
       "      <td>547.363</td>\n",
       "      <td>438.6796</td>\n",
       "      <td>Housewife</td>\n",
       "      <td>Cleaners and helpers in offices, hotels and ot...</td>\n",
       "      <td>NaN</td>\n",
       "    </tr>\n",
       "    <tr>\n",
       "      <th>4</th>\n",
       "      <td>00005</td>\n",
       "      <td>Albania</td>\n",
       "      <td>Female</td>\n",
       "      <td>381.9209</td>\n",
       "      <td>311.7707</td>\n",
       "      <td>361.5628</td>\n",
       "      <td>Housewife</td>\n",
       "      <td>Economists</td>\n",
       "      <td>NaN</td>\n",
       "    </tr>\n",
       "  </tbody>\n",
       "</table>\n",
       "</div>"
      ],
      "text/plain": [
       "  STIDSTD      CNT ST04Q01   PV1MATH   PV1READ   PV1SCIE  \\\n",
       "0   00001  Albania  Female  406.8469  249.5762  341.7009   \n",
       "1   00002  Albania  Female  486.1427  406.2936  548.9929   \n",
       "2   00003  Albania  Female  533.2684    401.21  499.6643   \n",
       "3   00004  Albania  Female  412.2215   547.363  438.6796   \n",
       "4   00005  Albania  Female  381.9209  311.7707  361.5628   \n",
       "\n",
       "                                        OCOD1  \\\n",
       "0                         Building architects   \n",
       "1  Tailors, dressmakers, furriers and hatters   \n",
       "2                                   Housewife   \n",
       "3                                   Housewife   \n",
       "4                                   Housewife   \n",
       "\n",
       "                                               OCOD2 ST22Q01  \n",
       "0                            Primary school teachers     NaN  \n",
       "1                    Building construction labourers     NaN  \n",
       "2                    Bricklayers and related workers     NaN  \n",
       "3  Cleaners and helpers in offices, hotels and ot...     NaN  \n",
       "4                                         Economists     NaN  "
      ]
     },
     "execution_count": 366,
     "metadata": {},
     "output_type": "execute_result"
    }
   ],
   "source": [
    "df_student_info.head()"
   ]
  },
  {
   "cell_type": "code",
   "execution_count": 367,
   "metadata": {},
   "outputs": [
    {
     "data": {
      "text/html": [
       "<div>\n",
       "<style scoped>\n",
       "    .dataframe tbody tr th:only-of-type {\n",
       "        vertical-align: middle;\n",
       "    }\n",
       "\n",
       "    .dataframe tbody tr th {\n",
       "        vertical-align: top;\n",
       "    }\n",
       "\n",
       "    .dataframe thead th {\n",
       "        text-align: right;\n",
       "    }\n",
       "</style>\n",
       "<table border=\"1\" class=\"dataframe\">\n",
       "  <thead>\n",
       "    <tr style=\"text-align: right;\">\n",
       "      <th></th>\n",
       "      <th>STIDSTD</th>\n",
       "      <th>CNT</th>\n",
       "      <th>ST04Q01</th>\n",
       "      <th>PV1MATH</th>\n",
       "      <th>PV1READ</th>\n",
       "      <th>PV1SCIE</th>\n",
       "      <th>OCOD1</th>\n",
       "      <th>OCOD2</th>\n",
       "      <th>ST22Q01</th>\n",
       "    </tr>\n",
       "  </thead>\n",
       "  <tbody>\n",
       "    <tr>\n",
       "      <th>count</th>\n",
       "      <td>485490</td>\n",
       "      <td>485490</td>\n",
       "      <td>485490</td>\n",
       "      <td>485490</td>\n",
       "      <td>485490</td>\n",
       "      <td>485490</td>\n",
       "      <td>483887</td>\n",
       "      <td>482936</td>\n",
       "      <td>40721</td>\n",
       "    </tr>\n",
       "    <tr>\n",
       "      <th>unique</th>\n",
       "      <td>33806</td>\n",
       "      <td>68</td>\n",
       "      <td>2</td>\n",
       "      <td>7063</td>\n",
       "      <td>11556</td>\n",
       "      <td>6153</td>\n",
       "      <td>588</td>\n",
       "      <td>588</td>\n",
       "      <td>2</td>\n",
       "    </tr>\n",
       "    <tr>\n",
       "      <th>top</th>\n",
       "      <td>00205</td>\n",
       "      <td>Mexico</td>\n",
       "      <td>Female</td>\n",
       "      <td>444.158</td>\n",
       "      <td>510.1099</td>\n",
       "      <td>472.5289</td>\n",
       "      <td>Housewife</td>\n",
       "      <td>Missing</td>\n",
       "      <td>Yes</td>\n",
       "    </tr>\n",
       "    <tr>\n",
       "      <th>freq</th>\n",
       "      <td>68</td>\n",
       "      <td>33806</td>\n",
       "      <td>245064</td>\n",
       "      <td>359</td>\n",
       "      <td>355</td>\n",
       "      <td>753</td>\n",
       "      <td>74358</td>\n",
       "      <td>36559</td>\n",
       "      <td>31692</td>\n",
       "    </tr>\n",
       "  </tbody>\n",
       "</table>\n",
       "</div>"
      ],
      "text/plain": [
       "       STIDSTD     CNT ST04Q01  PV1MATH   PV1READ   PV1SCIE      OCOD1  \\\n",
       "count   485490  485490  485490   485490    485490    485490     483887   \n",
       "unique   33806      68       2     7063     11556      6153        588   \n",
       "top      00205  Mexico  Female  444.158  510.1099  472.5289  Housewife   \n",
       "freq        68   33806  245064      359       355       753      74358   \n",
       "\n",
       "          OCOD2 ST22Q01  \n",
       "count    482936   40721  \n",
       "unique      588       2  \n",
       "top     Missing     Yes  \n",
       "freq      36559   31692  "
      ]
     },
     "execution_count": 367,
     "metadata": {},
     "output_type": "execute_result"
    }
   ],
   "source": [
    "df_student_info.describe()"
   ]
  },
  {
   "cell_type": "code",
   "execution_count": 323,
   "metadata": {},
   "outputs": [
    {
     "data": {
      "text/plain": [
       "Missing                                                         36559\n",
       "Vague(a good job, a quiet job, a well paid job, an office jo    14716\n",
       "Heavy truck and lorry drivers                                   11816\n",
       "Name: OCOD2, dtype: int64"
      ]
     },
     "execution_count": 323,
     "metadata": {},
     "output_type": "execute_result"
    }
   ],
   "source": [
    "#first 3 results of most common father occupations\n",
    "pisa2012[student_info].OCOD2.value_counts()[:3]"
   ]
  },
  {
   "cell_type": "markdown",
   "metadata": {},
   "source": [
    "- It appears that Mexico is the most common country, with a frequency of 33806 out of 485490 total students.\n",
    "- It appears that there are more female than male students.\n",
    "- It appears that the most common occupation for a mother is a housewife.\n",
    "- Besides missing and vague information, it appears that the most common occupation for a father is a heavy truck/lorry driver.\n",
    "- It appears that most student's mothers is an immigrant.\n",
    "\n",
    "\n",
    "- It appears that the most common math score is 444.158, with a frequency of 359 out of 485490 total scores. \n",
    "- It appears that the most common reading score is 510.1099, with a frequency of 355 out of 485490 total scores.\n",
    "- It appears that the most common science score is 472.5289, with a frequency of 588 out of 485490 total scores."
   ]
  },
  {
   "cell_type": "code",
   "execution_count": 368,
   "metadata": {},
   "outputs": [
    {
     "name": "stdout",
     "output_type": "stream",
     "text": [
      "<class 'pandas.core.frame.DataFrame'>\n",
      "RangeIndex: 485490 entries, 0 to 485489\n",
      "Data columns (total 9 columns):\n",
      "STIDSTD    485490 non-null object\n",
      "CNT        485490 non-null object\n",
      "ST04Q01    485490 non-null object\n",
      "PV1MATH    485490 non-null object\n",
      "PV1READ    485490 non-null object\n",
      "PV1SCIE    485490 non-null object\n",
      "OCOD1      483887 non-null object\n",
      "OCOD2      482936 non-null object\n",
      "ST22Q01    40721 non-null object\n",
      "dtypes: object(9)\n",
      "memory usage: 33.3+ MB\n"
     ]
    }
   ],
   "source": [
    "df_student_info.info()"
   ]
  },
  {
   "cell_type": "markdown",
   "metadata": {},
   "source": [
    "**Note:** math, reading, and science scores are recorded as strings."
   ]
  },
  {
   "cell_type": "markdown",
   "metadata": {},
   "source": [
    "**Student ID**"
   ]
  },
  {
   "cell_type": "code",
   "execution_count": 369,
   "metadata": {},
   "outputs": [
    {
     "data": {
      "text/plain": [
       "451684"
      ]
     },
     "execution_count": 369,
     "metadata": {},
     "output_type": "execute_result"
    }
   ],
   "source": [
    "#check for number of unique student IDs\n",
    "df_student_info.STIDSTD.duplicated().sum()"
   ]
  },
  {
   "cell_type": "markdown",
   "metadata": {},
   "source": [
    "There are 451684 duplicated student IDs, but that does not mean every student is the same. If we take a look below at some of the repeated student IDs, we can see that they are mostly based in different countries, all with much different records for the other pieces of student information."
   ]
  },
  {
   "cell_type": "code",
   "execution_count": 370,
   "metadata": {},
   "outputs": [
    {
     "data": {
      "text/html": [
       "<div>\n",
       "<style scoped>\n",
       "    .dataframe tbody tr th:only-of-type {\n",
       "        vertical-align: middle;\n",
       "    }\n",
       "\n",
       "    .dataframe tbody tr th {\n",
       "        vertical-align: top;\n",
       "    }\n",
       "\n",
       "    .dataframe thead th {\n",
       "        text-align: right;\n",
       "    }\n",
       "</style>\n",
       "<table border=\"1\" class=\"dataframe\">\n",
       "  <thead>\n",
       "    <tr style=\"text-align: right;\">\n",
       "      <th></th>\n",
       "      <th>STIDSTD</th>\n",
       "      <th>CNT</th>\n",
       "      <th>ST04Q01</th>\n",
       "      <th>PV1MATH</th>\n",
       "      <th>PV1READ</th>\n",
       "      <th>PV1SCIE</th>\n",
       "      <th>OCOD1</th>\n",
       "      <th>OCOD2</th>\n",
       "      <th>ST22Q01</th>\n",
       "    </tr>\n",
       "  </thead>\n",
       "  <tbody>\n",
       "    <tr>\n",
       "      <th>181698</th>\n",
       "      <td>06024</td>\n",
       "      <td>Finland</td>\n",
       "      <td>Female</td>\n",
       "      <td>631.4146</td>\n",
       "      <td>654.5949</td>\n",
       "      <td>632.0776</td>\n",
       "      <td>Beauticians and related workers</td>\n",
       "      <td>Motor vehicle mechanics and repairers</td>\n",
       "      <td>Yes</td>\n",
       "    </tr>\n",
       "    <tr>\n",
       "      <th>227438</th>\n",
       "      <td>00428</td>\n",
       "      <td>Ireland</td>\n",
       "      <td>Female</td>\n",
       "      <td>487.8564</td>\n",
       "      <td>519.8799</td>\n",
       "      <td>539.668</td>\n",
       "      <td>Food and beverage tasters and graders</td>\n",
       "      <td>Building construction labourers</td>\n",
       "      <td>NaN</td>\n",
       "    </tr>\n",
       "    <tr>\n",
       "      <th>223419</th>\n",
       "      <td>02031</td>\n",
       "      <td>Indonesia</td>\n",
       "      <td>Male</td>\n",
       "      <td>488.0122</td>\n",
       "      <td>435.6785</td>\n",
       "      <td>417.5121</td>\n",
       "      <td>Housewife</td>\n",
       "      <td>Stall and market salespersons</td>\n",
       "      <td>NaN</td>\n",
       "    </tr>\n",
       "    <tr>\n",
       "      <th>368740</th>\n",
       "      <td>00145</td>\n",
       "      <td>New Zealand</td>\n",
       "      <td>Male</td>\n",
       "      <td>648.5512</td>\n",
       "      <td>577.302</td>\n",
       "      <td>617.1578</td>\n",
       "      <td>Receptionists (general)</td>\n",
       "      <td>Machinery mechanics and repairers</td>\n",
       "      <td>NaN</td>\n",
       "    </tr>\n",
       "    <tr>\n",
       "      <th>240719</th>\n",
       "      <td>00130</td>\n",
       "      <td>Italy</td>\n",
       "      <td>Female</td>\n",
       "      <td>582.1857</td>\n",
       "      <td>620.2807</td>\n",
       "      <td>644.2932</td>\n",
       "      <td>Veterinarians</td>\n",
       "      <td>Veterinarians</td>\n",
       "      <td>Yes</td>\n",
       "    </tr>\n",
       "    <tr>\n",
       "      <th>55576</th>\n",
       "      <td>00311</td>\n",
       "      <td>Brazil</td>\n",
       "      <td>Female</td>\n",
       "      <td>373.5083</td>\n",
       "      <td>435.4448</td>\n",
       "      <td>424.972</td>\n",
       "      <td>Sewing, embroidery and related workers</td>\n",
       "      <td>Bricklayers and related workers</td>\n",
       "      <td>NaN</td>\n",
       "    </tr>\n",
       "    <tr>\n",
       "      <th>97733</th>\n",
       "      <td>01720</td>\n",
       "      <td>Switzerland</td>\n",
       "      <td>Male</td>\n",
       "      <td>535.6052</td>\n",
       "      <td>428.1402</td>\n",
       "      <td>537.8963</td>\n",
       "      <td>Nursing associate professionals</td>\n",
       "      <td>Managing directors and chief executives</td>\n",
       "      <td>NaN</td>\n",
       "    </tr>\n",
       "    <tr>\n",
       "      <th>144720</th>\n",
       "      <td>06619</td>\n",
       "      <td>Denmark</td>\n",
       "      <td>Female</td>\n",
       "      <td>483.9617</td>\n",
       "      <td>556.1799</td>\n",
       "      <td>528.1984</td>\n",
       "      <td>Shop sales assistants</td>\n",
       "      <td>Car, taxi and van drivers</td>\n",
       "      <td>NaN</td>\n",
       "    </tr>\n",
       "    <tr>\n",
       "      <th>144667</th>\n",
       "      <td>06566</td>\n",
       "      <td>Denmark</td>\n",
       "      <td>Female</td>\n",
       "      <td>416.272</td>\n",
       "      <td>478.1786</td>\n",
       "      <td>397.8366</td>\n",
       "      <td>Butchers, fishmongers and related food preparers</td>\n",
       "      <td>Personal care workers in health services not e...</td>\n",
       "      <td>NaN</td>\n",
       "    </tr>\n",
       "    <tr>\n",
       "      <th>429018</th>\n",
       "      <td>00697</td>\n",
       "      <td>Serbia</td>\n",
       "      <td>Female</td>\n",
       "      <td>599.4781</td>\n",
       "      <td>441.9581</td>\n",
       "      <td>523.4427</td>\n",
       "      <td>Shop salespersons</td>\n",
       "      <td>Bus and tram drivers</td>\n",
       "      <td>Yes</td>\n",
       "    </tr>\n",
       "  </tbody>\n",
       "</table>\n",
       "</div>"
      ],
      "text/plain": [
       "       STIDSTD          CNT ST04Q01   PV1MATH   PV1READ   PV1SCIE  \\\n",
       "181698   06024      Finland  Female  631.4146  654.5949  632.0776   \n",
       "227438   00428      Ireland  Female  487.8564  519.8799   539.668   \n",
       "223419   02031    Indonesia    Male  488.0122  435.6785  417.5121   \n",
       "368740   00145  New Zealand    Male  648.5512   577.302  617.1578   \n",
       "240719   00130        Italy  Female  582.1857  620.2807  644.2932   \n",
       "55576    00311       Brazil  Female  373.5083  435.4448   424.972   \n",
       "97733    01720  Switzerland    Male  535.6052  428.1402  537.8963   \n",
       "144720   06619      Denmark  Female  483.9617  556.1799  528.1984   \n",
       "144667   06566      Denmark  Female   416.272  478.1786  397.8366   \n",
       "429018   00697       Serbia  Female  599.4781  441.9581  523.4427   \n",
       "\n",
       "                                                   OCOD1  \\\n",
       "181698                   Beauticians and related workers   \n",
       "227438             Food and beverage tasters and graders   \n",
       "223419                                         Housewife   \n",
       "368740                           Receptionists (general)   \n",
       "240719                                     Veterinarians   \n",
       "55576             Sewing, embroidery and related workers   \n",
       "97733                    Nursing associate professionals   \n",
       "144720                             Shop sales assistants   \n",
       "144667  Butchers, fishmongers and related food preparers   \n",
       "429018                                Shop salespersons    \n",
       "\n",
       "                                                    OCOD2 ST22Q01  \n",
       "181698              Motor vehicle mechanics and repairers     Yes  \n",
       "227438                    Building construction labourers     NaN  \n",
       "223419                      Stall and market salespersons     NaN  \n",
       "368740                  Machinery mechanics and repairers     NaN  \n",
       "240719                                      Veterinarians     Yes  \n",
       "55576                     Bricklayers and related workers     NaN  \n",
       "97733             Managing directors and chief executives     NaN  \n",
       "144720                          Car, taxi and van drivers     NaN  \n",
       "144667  Personal care workers in health services not e...     NaN  \n",
       "429018                               Bus and tram drivers     Yes  "
      ]
     },
     "execution_count": 370,
     "metadata": {},
     "output_type": "execute_result"
    }
   ],
   "source": [
    "df_student_info[df_student_info['STIDSTD'].duplicated()].sample(10)"
   ]
  },
  {
   "cell_type": "markdown",
   "metadata": {},
   "source": [
    "Let's pick 1 duplicated student ID and examine it."
   ]
  },
  {
   "cell_type": "code",
   "execution_count": 371,
   "metadata": {},
   "outputs": [
    {
     "data": {
      "text/html": [
       "<div>\n",
       "<style scoped>\n",
       "    .dataframe tbody tr th:only-of-type {\n",
       "        vertical-align: middle;\n",
       "    }\n",
       "\n",
       "    .dataframe tbody tr th {\n",
       "        vertical-align: top;\n",
       "    }\n",
       "\n",
       "    .dataframe thead th {\n",
       "        text-align: right;\n",
       "    }\n",
       "</style>\n",
       "<table border=\"1\" class=\"dataframe\">\n",
       "  <thead>\n",
       "    <tr style=\"text-align: right;\">\n",
       "      <th></th>\n",
       "      <th>STIDSTD</th>\n",
       "      <th>CNT</th>\n",
       "      <th>ST04Q01</th>\n",
       "      <th>PV1MATH</th>\n",
       "      <th>PV1READ</th>\n",
       "      <th>PV1SCIE</th>\n",
       "      <th>OCOD1</th>\n",
       "      <th>OCOD2</th>\n",
       "      <th>ST22Q01</th>\n",
       "    </tr>\n",
       "  </thead>\n",
       "  <tbody>\n",
       "    <tr>\n",
       "      <th>131198</th>\n",
       "      <td>03425</td>\n",
       "      <td>Czech Republic</td>\n",
       "      <td>Female</td>\n",
       "      <td>374.8325</td>\n",
       "      <td>417.9699</td>\n",
       "      <td>407.2548</td>\n",
       "      <td>Waiters</td>\n",
       "      <td>Car, taxi and van drivers</td>\n",
       "      <td>NaN</td>\n",
       "    </tr>\n",
       "    <tr>\n",
       "      <th>451755</th>\n",
       "      <td>03425</td>\n",
       "      <td>Chinese Taipei</td>\n",
       "      <td>Male</td>\n",
       "      <td>619.4189</td>\n",
       "      <td>564.4709</td>\n",
       "      <td>549.6457</td>\n",
       "      <td>Sewing, embroidery and related workers</td>\n",
       "      <td>Process control technicians not elsewhere clas...</td>\n",
       "      <td>NaN</td>\n",
       "    </tr>\n",
       "    <tr>\n",
       "      <th>464407</th>\n",
       "      <td>03425</td>\n",
       "      <td>Tunisia</td>\n",
       "      <td>Male</td>\n",
       "      <td>523.7654</td>\n",
       "      <td>476.8183</td>\n",
       "      <td>539.295</td>\n",
       "      <td>Housewife</td>\n",
       "      <td>House builders</td>\n",
       "      <td>NaN</td>\n",
       "    </tr>\n",
       "    <tr>\n",
       "      <th>319127</th>\n",
       "      <td>03425</td>\n",
       "      <td>Mexico</td>\n",
       "      <td>Female</td>\n",
       "      <td>345.4666</td>\n",
       "      <td>238.4558</td>\n",
       "      <td>353.8232</td>\n",
       "      <td>Housewife</td>\n",
       "      <td>Vague(a good job, a quiet job, a well paid job...</td>\n",
       "      <td>NaN</td>\n",
       "    </tr>\n",
       "    <tr>\n",
       "      <th>275087</th>\n",
       "      <td>03425</td>\n",
       "      <td>Jordan</td>\n",
       "      <td>Male</td>\n",
       "      <td>364.239</td>\n",
       "      <td>344.9785</td>\n",
       "      <td>363.0548</td>\n",
       "      <td>Housewife</td>\n",
       "      <td>Social beneficiary (unemployed, retired, sickn...</td>\n",
       "      <td>NaN</td>\n",
       "    </tr>\n",
       "    <tr>\n",
       "      <th>58690</th>\n",
       "      <td>03425</td>\n",
       "      <td>Brazil</td>\n",
       "      <td>Male</td>\n",
       "      <td>480.768</td>\n",
       "      <td>431.5886</td>\n",
       "      <td>483.7188</td>\n",
       "      <td>Domestic housekeepers</td>\n",
       "      <td>Bricklayers and related workers</td>\n",
       "      <td>NaN</td>\n",
       "    </tr>\n",
       "    <tr>\n",
       "      <th>205200</th>\n",
       "      <td>03425</td>\n",
       "      <td>Greece</td>\n",
       "      <td>Male</td>\n",
       "      <td>376.8578</td>\n",
       "      <td>346.422</td>\n",
       "      <td>372.1932</td>\n",
       "      <td>Hairdressers</td>\n",
       "      <td>Building construction labourers</td>\n",
       "      <td>NaN</td>\n",
       "    </tr>\n",
       "    <tr>\n",
       "      <th>299610</th>\n",
       "      <td>03425</td>\n",
       "      <td>Lithuania</td>\n",
       "      <td>Male</td>\n",
       "      <td>641.2292</td>\n",
       "      <td>610.1818</td>\n",
       "      <td>628.9071</td>\n",
       "      <td>Sewing, embroidery and related workers</td>\n",
       "      <td>Heavy truck and lorry drivers</td>\n",
       "      <td>NaN</td>\n",
       "    </tr>\n",
       "    <tr>\n",
       "      <th>192541</th>\n",
       "      <td>03425</td>\n",
       "      <td>United Kingdom</td>\n",
       "      <td>Female</td>\n",
       "      <td>489.57</td>\n",
       "      <td>516.7027</td>\n",
       "      <td>484.6512</td>\n",
       "      <td>Construction managers</td>\n",
       "      <td>Construction managers</td>\n",
       "      <td>NaN</td>\n",
       "    </tr>\n",
       "    <tr>\n",
       "      <th>382346</th>\n",
       "      <td>03425</td>\n",
       "      <td>Poland</td>\n",
       "      <td>Male</td>\n",
       "      <td>534.5926</td>\n",
       "      <td>504.4052</td>\n",
       "      <td>561.768</td>\n",
       "      <td>Mixed crop and animal producers</td>\n",
       "      <td>Mixed crop and animal producers</td>\n",
       "      <td>NaN</td>\n",
       "    </tr>\n",
       "  </tbody>\n",
       "</table>\n",
       "</div>"
      ],
      "text/plain": [
       "       STIDSTD             CNT ST04Q01   PV1MATH   PV1READ   PV1SCIE  \\\n",
       "131198   03425  Czech Republic  Female  374.8325  417.9699  407.2548   \n",
       "451755   03425  Chinese Taipei    Male  619.4189  564.4709  549.6457   \n",
       "464407   03425         Tunisia    Male  523.7654  476.8183   539.295   \n",
       "319127   03425          Mexico  Female  345.4666  238.4558  353.8232   \n",
       "275087   03425          Jordan    Male   364.239  344.9785  363.0548   \n",
       "58690    03425          Brazil    Male   480.768  431.5886  483.7188   \n",
       "205200   03425          Greece    Male  376.8578   346.422  372.1932   \n",
       "299610   03425       Lithuania    Male  641.2292  610.1818  628.9071   \n",
       "192541   03425  United Kingdom  Female    489.57  516.7027  484.6512   \n",
       "382346   03425          Poland    Male  534.5926  504.4052   561.768   \n",
       "\n",
       "                                         OCOD1  \\\n",
       "131198                                 Waiters   \n",
       "451755  Sewing, embroidery and related workers   \n",
       "464407                               Housewife   \n",
       "319127                               Housewife   \n",
       "275087                               Housewife   \n",
       "58690                    Domestic housekeepers   \n",
       "205200                            Hairdressers   \n",
       "299610  Sewing, embroidery and related workers   \n",
       "192541                   Construction managers   \n",
       "382346         Mixed crop and animal producers   \n",
       "\n",
       "                                                    OCOD2 ST22Q01  \n",
       "131198                          Car, taxi and van drivers     NaN  \n",
       "451755  Process control technicians not elsewhere clas...     NaN  \n",
       "464407                                     House builders     NaN  \n",
       "319127  Vague(a good job, a quiet job, a well paid job...     NaN  \n",
       "275087  Social beneficiary (unemployed, retired, sickn...     NaN  \n",
       "58690                     Bricklayers and related workers     NaN  \n",
       "205200                    Building construction labourers     NaN  \n",
       "299610                      Heavy truck and lorry drivers     NaN  \n",
       "192541                              Construction managers     NaN  \n",
       "382346                    Mixed crop and animal producers     NaN  "
      ]
     },
     "execution_count": 371,
     "metadata": {},
     "output_type": "execute_result"
    }
   ],
   "source": [
    "df_student_info[df_student_info['STIDSTD'] == '03425'].sample(10)"
   ]
  },
  {
   "cell_type": "markdown",
   "metadata": {},
   "source": [
    "This piece of evidence, coupled with the fact there are ***no*** duplicated entries for the entire PISA dataset, proves that repeated student IDs does not mean repeated identical students.\n",
    "\n",
    "These repeated student IDs are most likely caused by other factors such as ***different schools*** among different countries. Additionally, students with the same student ID all have different records--some are recorded as male and other females, based in different countries, and with varying math scores."
   ]
  },
  {
   "cell_type": "markdown",
   "metadata": {},
   "source": [
    "**Country**"
   ]
  },
  {
   "cell_type": "code",
   "execution_count": 372,
   "metadata": {},
   "outputs": [
    {
     "data": {
      "text/plain": [
       "0"
      ]
     },
     "execution_count": 372,
     "metadata": {},
     "output_type": "execute_result"
    }
   ],
   "source": [
    "#number of entries with missing countries\n",
    "sum(df_student_info.CNT.isnull())"
   ]
  },
  {
   "cell_type": "code",
   "execution_count": 373,
   "metadata": {},
   "outputs": [
    {
     "data": {
      "text/plain": [
       "68"
      ]
     },
     "execution_count": 373,
     "metadata": {},
     "output_type": "execute_result"
    }
   ],
   "source": [
    "df_student_info.CNT.nunique()"
   ]
  },
  {
   "cell_type": "markdown",
   "metadata": {},
   "source": [
    "> Our dataset includes data from 65 countries, but our DataFrame shows that there are 68 countries. What are the 3 additional rogue countries then?"
   ]
  },
  {
   "cell_type": "code",
   "execution_count": 374,
   "metadata": {},
   "outputs": [
    {
     "data": {
      "text/plain": [
       "Florida (USA)               1896\n",
       "Perm(Russian Federation)    1761\n",
       "Massachusetts (USA)         1723\n",
       "Connecticut (USA)           1697\n",
       "Liechtenstein                293\n",
       "Name: CNT, dtype: int64"
      ]
     },
     "execution_count": 374,
     "metadata": {},
     "output_type": "execute_result"
    }
   ],
   "source": [
    "#Massachusetts, Florida, and Connecticut recorded as separate countries.\n",
    "df_student_info.CNT.value_counts()[-5:]"
   ]
  },
  {
   "cell_type": "markdown",
   "metadata": {},
   "source": [
    "**Gender**"
   ]
  },
  {
   "cell_type": "code",
   "execution_count": 375,
   "metadata": {},
   "outputs": [
    {
     "data": {
      "text/plain": [
       "0"
      ]
     },
     "execution_count": 375,
     "metadata": {},
     "output_type": "execute_result"
    }
   ],
   "source": [
    "#number of entries with no gender entry\n",
    "sum(df_student_info.ST04Q01.isnull())"
   ]
  },
  {
   "cell_type": "code",
   "execution_count": 376,
   "metadata": {},
   "outputs": [
    {
     "data": {
      "text/plain": [
       "Female    245064\n",
       "Male      240426\n",
       "Name: ST04Q01, dtype: int64"
      ]
     },
     "execution_count": 376,
     "metadata": {},
     "output_type": "execute_result"
    }
   ],
   "source": [
    "#check male to female ratio\n",
    "gender_counts = df_student_info.ST04Q01.value_counts()\n",
    "gender_counts"
   ]
  },
  {
   "cell_type": "code",
   "execution_count": 377,
   "metadata": {},
   "outputs": [
    {
     "name": "stdout",
     "output_type": "stream",
     "text": [
      "Female students make up 50.48% of the student population.\n",
      "Male students make up 49.52% of the student population.\n"
     ]
    }
   ],
   "source": [
    "total_students = gender_counts[0] + gender_counts[1]\n",
    "print('Female students make up {:0.2f}% of the student population.'.format((gender_counts[0] / total_students) * 100))\n",
    "print('Male students make up {:0.2f}% of the student population.'.format((gender_counts[1] / total_students) * 100))"
   ]
  },
  {
   "cell_type": "markdown",
   "metadata": {},
   "source": [
    "> Male and female students are about **evenly split** with female students outnumbering male students by only .96%."
   ]
  },
  {
   "cell_type": "markdown",
   "metadata": {},
   "source": [
    "**Math, Reading, and Science Score**\n",
    "\n",
    "> All scores are recorded as strings. To appropriately assess the numbers quantitatively, I will temporarily change them to floats."
   ]
  },
  {
   "cell_type": "code",
   "execution_count": 378,
   "metadata": {},
   "outputs": [
    {
     "name": "stdout",
     "output_type": "stream",
     "text": [
      "0\n",
      "0\n",
      "0\n"
     ]
    }
   ],
   "source": [
    "#number of entries with no entry for math, science, and reading scores\n",
    "print(sum(df_student_info.PV1MATH.isnull()))\n",
    "print(sum(df_student_info.PV1READ.isnull()))\n",
    "print(sum(df_student_info.PV1SCIE.isnull()))"
   ]
  },
  {
   "cell_type": "code",
   "execution_count": 379,
   "metadata": {},
   "outputs": [
    {
     "data": {
      "text/html": [
       "<div>\n",
       "<style scoped>\n",
       "    .dataframe tbody tr th:only-of-type {\n",
       "        vertical-align: middle;\n",
       "    }\n",
       "\n",
       "    .dataframe tbody tr th {\n",
       "        vertical-align: top;\n",
       "    }\n",
       "\n",
       "    .dataframe thead th {\n",
       "        text-align: right;\n",
       "    }\n",
       "</style>\n",
       "<table border=\"1\" class=\"dataframe\">\n",
       "  <thead>\n",
       "    <tr style=\"text-align: right;\">\n",
       "      <th></th>\n",
       "      <th>PV1MATH</th>\n",
       "      <th>PV1READ</th>\n",
       "      <th>PV1SCIE</th>\n",
       "    </tr>\n",
       "  </thead>\n",
       "  <tbody>\n",
       "    <tr>\n",
       "      <th>count</th>\n",
       "      <td>485490.000000</td>\n",
       "      <td>485490.000000</td>\n",
       "      <td>485490.000000</td>\n",
       "    </tr>\n",
       "    <tr>\n",
       "      <th>mean</th>\n",
       "      <td>469.621653</td>\n",
       "      <td>472.004640</td>\n",
       "      <td>475.769824</td>\n",
       "    </tr>\n",
       "    <tr>\n",
       "      <th>std</th>\n",
       "      <td>103.265391</td>\n",
       "      <td>102.505523</td>\n",
       "      <td>101.464426</td>\n",
       "    </tr>\n",
       "    <tr>\n",
       "      <th>min</th>\n",
       "      <td>19.792800</td>\n",
       "      <td>0.083400</td>\n",
       "      <td>2.648300</td>\n",
       "    </tr>\n",
       "    <tr>\n",
       "      <th>25%</th>\n",
       "      <td>395.318600</td>\n",
       "      <td>403.600700</td>\n",
       "      <td>404.457300</td>\n",
       "    </tr>\n",
       "    <tr>\n",
       "      <th>50%</th>\n",
       "      <td>466.201900</td>\n",
       "      <td>475.455000</td>\n",
       "      <td>475.699400</td>\n",
       "    </tr>\n",
       "    <tr>\n",
       "      <th>75%</th>\n",
       "      <td>541.057800</td>\n",
       "      <td>544.502500</td>\n",
       "      <td>547.780700</td>\n",
       "    </tr>\n",
       "    <tr>\n",
       "      <th>max</th>\n",
       "      <td>962.229300</td>\n",
       "      <td>904.802600</td>\n",
       "      <td>903.338300</td>\n",
       "    </tr>\n",
       "  </tbody>\n",
       "</table>\n",
       "</div>"
      ],
      "text/plain": [
       "             PV1MATH        PV1READ        PV1SCIE\n",
       "count  485490.000000  485490.000000  485490.000000\n",
       "mean      469.621653     472.004640     475.769824\n",
       "std       103.265391     102.505523     101.464426\n",
       "min        19.792800       0.083400       2.648300\n",
       "25%       395.318600     403.600700     404.457300\n",
       "50%       466.201900     475.455000     475.699400\n",
       "75%       541.057800     544.502500     547.780700\n",
       "max       962.229300     904.802600     903.338300"
      ]
     },
     "execution_count": 379,
     "metadata": {},
     "output_type": "execute_result"
    }
   ],
   "source": [
    "#look at 5-Number Summary for all scores\n",
    "df_student_info[['PV1MATH', 'PV1READ', 'PV1SCIE']].astype(float).describe()"
   ]
  },
  {
   "cell_type": "markdown",
   "metadata": {},
   "source": [
    "- It appears that people, on average, scored higher for science.\n",
    "- All people scored similarly in the 25th, 50th, and 75th percentiles for math, reading, and science scores.\n",
    "- The highest recorded score is for math at 962.229.\n",
    "- The lowest recorded score is for reading at 0.083400.\n",
    "\n",
    "> Initially, I was going to handle missing and duplicate data among the upcoming **environmental + student effect** variables. However, I concluded that it's unncecessary to drop rows with missing/duplicate data. This is because we have previously established that 1) there are no duplicate records of the same students, and 2) NaN data is to be expected especially under columns that are not required information. As long as our student IDs, scores, and gender (among other necessary column fields) equal the entire number of students, then we have nothing to worry about.\n",
    "\n",
    "In that case, the rest of the data assessment focuses only on 1) isolating variables, 2) finding unique values, and 3) finding a way to normalize them quantitatively."
   ]
  },
  {
   "cell_type": "code",
   "execution_count": 380,
   "metadata": {},
   "outputs": [],
   "source": [
    "#function to isolate unique values among multiple columns in a df\n",
    "def comb_cols(df, columns):\n",
    "    return (pd.unique(df[columns].values.ravel()))"
   ]
  },
  {
   "cell_type": "markdown",
   "metadata": {},
   "source": [
    "### Teacher Helpfulness/Involvement\n",
    "\n",
    "-**Teacher Helpfulness** measures how well a teacher is dedicating their time to helping a student drive their academic performance.\n"
   ]
  },
  {
   "cell_type": "code",
   "execution_count": 381,
   "metadata": {},
   "outputs": [
    {
     "data": {
      "text/plain": [
       "array(['Strongly disagree', 'Agree', 'Disagree', 'Never or Hardly Ever',\n",
       "       'Most Lessons', 'Every Lesson', nan, 'Strongly agree',\n",
       "       'Some Lessons'], dtype=object)"
      ]
     },
     "execution_count": 381,
     "metadata": {},
     "output_type": "execute_result"
    }
   ],
   "source": [
    "#unique values across all teacher support categories\n",
    "pd.unique(pisa2012[teacher_helpfulness].values.ravel())"
   ]
  },
  {
   "cell_type": "markdown",
   "metadata": {},
   "source": [
    "> It appears some categories under `teacher_helpfulness` consist of different values. Let's check them more in-depth:"
   ]
  },
  {
   "cell_type": "code",
   "execution_count": 382,
   "metadata": {},
   "outputs": [
    {
     "name": "stdout",
     "output_type": "stream",
     "text": [
      "Teacher support: ['Strongly disagree' 'Agree' nan 'Strongly agree' 'Disagree']\n",
      "Teacher relation: ['Agree' 'Strongly disagree' 'Disagree' nan 'Strongly agree']\n",
      "Teacher direction: ['Never or Hardly Ever' 'Most Lessons' 'Every Lesson' nan 'Some Lessons']\n"
     ]
    }
   ],
   "source": [
    "#list all unique values per column under teacher_helpfulness\n",
    "print('Teacher support:', comb_cols(pisa2012, teacher_support))\n",
    "print('Teacher relation:', comb_cols(pisa2012, teacher_relation))\n",
    "print('Teacher direction:', comb_cols(pisa2012, teacher_direct))"
   ]
  },
  {
   "cell_type": "markdown",
   "metadata": {},
   "source": [
    "- Variables among `teacher_support` and `teacher_relation` are the exact same at **\"Strongly disagree,\" \"Disagree,\" \"Agree,\" \"Strongly agree,\" and \"NaN.\"** Therefore, we don't have to worry about future quantification and normalization between these 2 variables.\n",
    "\n",
    "- However, variables under `teacher_direct` are ***\"Never or Hardly Ever,\" \"Most Lessons,\" \"Every Lesson,\" \"Some Lessons,\" and \"NaN.\"*** \n",
    "\n",
    "### Sense of Belonging\n",
    "\n",
    "- **Sense of Belonging** measures how comfortable a student feels in their immediate social environment at school."
   ]
  },
  {
   "cell_type": "code",
   "execution_count": 383,
   "metadata": {},
   "outputs": [
    {
     "name": "stdout",
     "output_type": "stream",
     "text": [
      "Sense of Belonging: ['Agree' 'Strongly disagree' 'Strongly agree' nan 'Disagree']\n"
     ]
    }
   ],
   "source": [
    "#list all unique values per column\n",
    "print('Sense of Belonging:', comb_cols(pisa2012, belonging))"
   ]
  },
  {
   "cell_type": "markdown",
   "metadata": {},
   "source": [
    "- `belonging` has the same column values as `teacher_support` and `teacher_relation`.\n",
    "\n",
    "### Acculturation\n",
    "- **Acculturation** measures how well a student is assimilating into their host culture."
   ]
  },
  {
   "cell_type": "code",
   "execution_count": 384,
   "metadata": {},
   "outputs": [
    {
     "name": "stdout",
     "output_type": "stream",
     "text": [
      "Acculturation: [nan 'Agree' 'Disagree' 'Strongly disagree' 'Strongly agree']\n"
     ]
    }
   ],
   "source": [
    "print('Acculturation:', comb_cols(pisa2012, acculturation))"
   ]
  },
  {
   "cell_type": "markdown",
   "metadata": {},
   "source": [
    "- `acculturation` has the same column values as `belonging`, `teacher_support`, and `teacher_relation`.\n",
    "\n",
    "### Work Ethic\n",
    "\n",
    "- **Math Work Ethic** measures a student's focus and dedication to learning math.\n",
    "- **Perseverance** measures a student's ability to not give up and do better on their work.\n",
    "- **Truancy** measures a student's attendance."
   ]
  },
  {
   "cell_type": "code",
   "execution_count": 348,
   "metadata": {},
   "outputs": [
    {
     "name": "stdout",
     "output_type": "stream",
     "text": [
      "['Agree' 'Very much like me' 'Somewhat like me' 'None  ' '1'\n",
      " 'Strongly agree' 'Disagree' 'Not at all like me' 'Mostly like me'\n",
      " 'One or two times  ' 'Not much like me' nan '2' 'Three or four times  '\n",
      " '3' 'Strongly disagree' 'Five or more times  ' '4']\n"
     ]
    }
   ],
   "source": [
    "#comb unique values through all columns\n",
    "print(comb_cols(pisa2012, work_ethic))"
   ]
  },
  {
   "cell_type": "code",
   "execution_count": 352,
   "metadata": {},
   "outputs": [
    {
     "name": "stdout",
     "output_type": "stream",
     "text": [
      "Math Ethic: ['Agree' 'Strongly agree' 'Disagree' nan 'Strongly disagree']\n",
      "Perseverance: ['Very much like me' 'Somewhat like me' 'Not at all like me'\n",
      " 'Mostly like me' 'Not much like me' nan]\n",
      "Truancy: ['None  ' '1' 'One or two times  ' '2' 'Three or four times  ' nan '3'\n",
      " 'Five or more times  ' '4']\n"
     ]
    }
   ],
   "source": [
    "#comb unique values individually\n",
    "print('Math Ethic:', comb_cols(pisa2012, math_ethic))\n",
    "print('Perseverance:', comb_cols(pisa2012, perseverance))\n",
    "print('Truancy:', comb_cols(pisa2012, truancy))"
   ]
  },
  {
   "cell_type": "markdown",
   "metadata": {},
   "source": [
    "- `math_ethic` has the same column values as `acculturation`, `belonging`, `teacher_support`, and `teacher_relation`.\n",
    "- `perseverance` and `truancy` have no common values with each other or any other previous variable."
   ]
  },
  {
   "cell_type": "markdown",
   "metadata": {},
   "source": [
    "### Future Optimism\n",
    "- **Attitude towards School** measures a student's current perception of how useful school is in preparing them for college or a job.\n",
    "- **Instrumental Motivation** measures a student's current perception of how helpful school is in future career/study prospects."
   ]
  },
  {
   "cell_type": "code",
   "execution_count": 388,
   "metadata": {},
   "outputs": [
    {
     "data": {
      "text/plain": [
       "array(['Agree', 'Strongly agree', 'Strongly disagree', nan, 'Disagree'],\n",
       "      dtype=object)"
      ]
     },
     "execution_count": 388,
     "metadata": {},
     "output_type": "execute_result"
    }
   ],
   "source": [
    "#comb unique values through all columns\n",
    "comb_cols(pisa2012, future_optimism)"
   ]
  },
  {
   "cell_type": "markdown",
   "metadata": {},
   "source": [
    "> Both columns under `future_optimism` share the same values. But just to double-check, let's check them individually:"
   ]
  },
  {
   "cell_type": "code",
   "execution_count": 389,
   "metadata": {},
   "outputs": [
    {
     "name": "stdout",
     "output_type": "stream",
     "text": [
      "Attitudes toward School:  ['Agree' 'Strongly agree' 'Strongly disagree' nan 'Disagree']\n",
      "Motivation:  ['Agree' 'Strongly agree' 'Disagree' nan 'Strongly disagree']\n"
     ]
    }
   ],
   "source": [
    "print('Attitudes toward School: ', comb_cols(pisa2012, attitude_school))\n",
    "print('Motivation: ', comb_cols(pisa2012, motivation))"
   ]
  },
  {
   "cell_type": "markdown",
   "metadata": {},
   "source": [
    "- both `attitude_school` and `motivation` have the same values in common with `math_ethic`, `acculturation`, `belonging`, `teacher_support`, and `teacher_relation`."
   ]
  },
  {
   "cell_type": "markdown",
   "metadata": {},
   "source": [
    "### Self-Esteem\n",
    "- **Perceived Control** measures if a student feels in control of their success.\n",
    "- **Math Self-Concept** measures how a student feels about themselves in relation to math."
   ]
  },
  {
   "cell_type": "code",
   "execution_count": 390,
   "metadata": {},
   "outputs": [
    {
     "data": {
      "text/plain": [
       "array(['Strongly agree', 'Strongly disagree', 'Disagree', 'Agree', nan],\n",
       "      dtype=object)"
      ]
     },
     "execution_count": 390,
     "metadata": {},
     "output_type": "execute_result"
    }
   ],
   "source": [
    "#comb unique values through all columns\n",
    "comb_cols(pisa2012, self_esteem)"
   ]
  },
  {
   "cell_type": "code",
   "execution_count": 391,
   "metadata": {},
   "outputs": [
    {
     "name": "stdout",
     "output_type": "stream",
     "text": [
      "Perceived Control:  ['Strongly agree' 'Strongly disagree' 'Disagree' nan 'Agree']\n",
      "Math Self-Concept:  ['Disagree' 'Agree' nan 'Strongly agree' 'Strongly disagree']\n"
     ]
    }
   ],
   "source": [
    "#comb unique values individually\n",
    "print('Perceived Control: ', comb_cols(pisa2012, perceived_control))\n",
    "print('Math Self-Concept: ', comb_cols(pisa2012, math_self_concept))"
   ]
  },
  {
   "cell_type": "markdown",
   "metadata": {},
   "source": [
    "\n",
    "\n",
    "- Values among `teacher_support`, `teacher_relation`, `belonging`, `acculturation`, `math_ethic`, `attitude_school`, `motivation`, `perceived_control`, and `math_self_concept` are **\"Strongly disagree,\" \"Disagree,\" \"Agree,\" \"Strongly agree,\" and \"NaN.\"**\n",
    "\n",
    "\n",
    "- Values under `teacher_direct` are **\"Every Lesson\", \"Most Lessons\", \"Some Lessons\", \"Never or Hardly Ever\", and \"NaN.\"**\n",
    "\n",
    "\n",
    "\n",
    "- Values under `perseverance` are **\"Very much like me,\" \"Somewhat like me,\" \"Not at all like me,\" \"Mostly like me,\" \"Not much like me,\" and \"NaN.\"** \n",
    "\n",
    "\n",
    "- Values under `truancy` are **\"Five or more times,\" \"4\", \"Three or four times\", \"3\", \"2\", \"One or Two Times\", \"1\", \"None\", and \"NaN.\"**"
   ]
  },
  {
   "cell_type": "markdown",
   "metadata": {},
   "source": [
    "## Quality\n",
    "- Erroneous data types for math, reading, and science scores.\n",
    "- Florida (USA), Massachusetts (USA), and Connecticut (USA) considered as separate countries from United States of America.\n",
    "- Ordinal nature of categorical variables from **teacher support** to **perceived control** means they can be quantified.\n",
    "- Inconsistent and unnormalized values among these variable groups:\n",
    "    - `teacher_support`, `teacher_relation`, `belonging`, `acculturation`, `math_ethic`, `attitude_school`, `motivation`, `perceived_control`, `math_self_concept`\n",
    "    - `teacher_direct`\n",
    "    - `perseverance`\n",
    "    - `truancy`\n",
    "- Non-descriptive column names for all variable categories.\n",
    "\n",
    "\n",
    "## Tidiness\n",
    "- Abundance of unnecessary variables besides the ones isolated in pre-assessment stage.\n",
    "\n",
    "# CLEAN"
   ]
  },
  {
   "cell_type": "code",
   "execution_count": null,
   "metadata": {},
   "outputs": [],
   "source": []
  }
 ],
 "metadata": {
  "kernelspec": {
   "display_name": "Python 3",
   "language": "python",
   "name": "python3"
  },
  "language_info": {
   "codemirror_mode": {
    "name": "ipython",
    "version": 3
   },
   "file_extension": ".py",
   "mimetype": "text/x-python",
   "name": "python",
   "nbconvert_exporter": "python",
   "pygments_lexer": "ipython3",
   "version": "3.7.3"
  }
 },
 "nbformat": 4,
 "nbformat_minor": 2
}
